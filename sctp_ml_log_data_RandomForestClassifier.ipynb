{
  "cells": [
    {
      "cell_type": "markdown",
      "metadata": {
        "id": "Vng0d2bkvtEE"
      },
      "source": [
        "# **SCTP Capstone - Log Classification using Supvervised Machine Learning**"
      ]
    },
    {
      "cell_type": "markdown",
      "metadata": {
        "id": "eHYX1s0azFEB"
      },
      "source": [
        "# Notebook Init"
      ]
    },
    {
      "cell_type": "code",
      "execution_count": 1,
      "metadata": {
        "colab": {
          "base_uri": "https://localhost:8080/"
        },
        "execution": {
          "iopub.execute_input": "2024-09-07T14:34:12.832035Z",
          "iopub.status.busy": "2024-09-07T14:34:12.831017Z",
          "iopub.status.idle": "2024-09-07T14:34:12.847997Z",
          "shell.execute_reply": "2024-09-07T14:34:12.846884Z",
          "shell.execute_reply.started": "2024-09-07T14:34:12.831974Z"
        },
        "id": "vCsi_bMTiFh0",
        "outputId": "ccec57fc-8e3b-4af1-cca4-5eb74051c13a",
        "trusted": true
      },
      "outputs": [
        {
          "name": "stdout",
          "output_type": "stream",
          "text": [
            "Kaggle: False\n",
            "Colab: False\n"
          ]
        }
      ],
      "source": [
        "import os\n",
        "# print('KAGGLE_GCP_ZONE' in list(os.environ.keys()))\n",
        "# print('COLAB_RELEASE_TAG' in list(os.environ.keys()))\n",
        "\n",
        "RunningInKaggle = 'KAGGLE_GCP_ZONE' in list(os.environ.keys())\n",
        "RunningInCOLAB = 'google.colab' in str(get_ipython()) if hasattr(__builtins__,'__IPYTHON__') else False\n",
        "print(f\"Kaggle: {RunningInKaggle}\")\n",
        "print(f\"Colab: {RunningInCOLAB}\")"
      ]
    },
    {
      "cell_type": "code",
      "execution_count": 2,
      "metadata": {
        "execution": {
          "iopub.execute_input": "2024-09-07T14:34:12.850391Z",
          "iopub.status.busy": "2024-09-07T14:34:12.849681Z",
          "iopub.status.idle": "2024-09-07T14:34:17.143167Z",
          "shell.execute_reply": "2024-09-07T14:34:17.141949Z",
          "shell.execute_reply.started": "2024-09-07T14:34:12.850336Z"
        },
        "id": "7MS3oVTaS22t",
        "trusted": true
      },
      "outputs": [
        {
          "name": "stderr",
          "output_type": "stream",
          "text": [
            "2024-09-17 21:26:44.293763: E external/local_xla/xla/stream_executor/cuda/cuda_fft.cc:485] Unable to register cuFFT factory: Attempting to register factory for plugin cuFFT when one has already been registered\n",
            "2024-09-17 21:26:44.544462: E external/local_xla/xla/stream_executor/cuda/cuda_dnn.cc:8454] Unable to register cuDNN factory: Attempting to register factory for plugin cuDNN when one has already been registered\n",
            "2024-09-17 21:26:44.609475: E external/local_xla/xla/stream_executor/cuda/cuda_blas.cc:1452] Unable to register cuBLAS factory: Attempting to register factory for plugin cuBLAS when one has already been registered\n",
            "2024-09-17 21:26:45.097739: I tensorflow/core/platform/cpu_feature_guard.cc:210] This TensorFlow binary is optimized to use available CPU instructions in performance-critical operations.\n",
            "To enable the following instructions: AVX2 FMA, in other operations, rebuild TensorFlow with the appropriate compiler flags.\n",
            "2024-09-17 21:26:47.409331: W tensorflow/compiler/tf2tensorrt/utils/py_utils.cc:38] TF-TRT Warning: Could not find TensorRT\n"
          ]
        }
      ],
      "source": [
        "import tensorflow as tf\n",
        "\n",
        "def gpu_check():\n",
        "    # check\n",
        "    !nvidia-smi\n",
        "    print(f\"tensorflow version: {tf.__version__}\")\n",
        "    gpus = tf.config.list_physical_devices('GPU')\n",
        "    cpus = tf.config.list_physical_devices('CPU')\n",
        "    print(gpus)\n",
        "    print(cpus)\n",
        "\n",
        "def gpu_set(p_enable: bool=False):\n",
        "    gpu_check()\n",
        "    gpus = tf.config.list_physical_devices('GPU')\n",
        "    cpus = tf.config.list_physical_devices('CPU')\n",
        "    try:\n",
        "        if p_enable:\n",
        "            tf.debugging.set_log_device_placement(True)\n",
        "            for gpu in gpus:\n",
        "                tf.config.experimental.set_memory_growth(gpu, True)\n",
        "                # tf.config.set_visible_devices(gpus[0], 'GPU')\n",
        "                tf.config.set_visible_devices(gpu, 'GPU')\n",
        "            logical_gpus = tf.config.list_logical_devices('GPU')\n",
        "            print(len(gpus), \"Physical GPUs,\", len(logical_gpus), \"Logical GPUs\")\n",
        "        else:\n",
        "            tf.config.set_visible_devices(cpus[0], 'CPU')\n",
        "    except RuntimeError as e:\n",
        "        # Memory growth must be set before GPUs have been initialized\n",
        "        print(e)\n",
        "\n",
        "# mount google drive in colab\n",
        "def mount_gg_drive():\n",
        "    from google.colab import drive\n",
        "    drive.mount('/content/drive', force_remount=True)\n",
        "\n",
        "def git_clone(p_url: str=None):\n",
        "    !git clone https://github.com/NMustikha/SCTP-Capstone-4-Fraud-Detection\n",
        "\n",
        "def find_files(p_dir: str = '/kaggle'):\n",
        "    for dirname, _, filenames in os.walk(p_dir):\n",
        "        for filename in filenames:\n",
        "            print(os.path.join(dirname, filename))\n"
      ]
    },
    {
      "cell_type": "code",
      "execution_count": 3,
      "metadata": {
        "colab": {
          "base_uri": "https://localhost:8080/"
        },
        "execution": {
          "iopub.execute_input": "2024-09-07T14:34:17.145706Z",
          "iopub.status.busy": "2024-09-07T14:34:17.144969Z",
          "iopub.status.idle": "2024-09-07T14:34:18.316886Z",
          "shell.execute_reply": "2024-09-07T14:34:18.315353Z",
          "shell.execute_reply.started": "2024-09-07T14:34:17.145662Z"
        },
        "id": "SylIdS9-IXFa",
        "outputId": "58dd5bda-9fe7-4570-8804-90d23991004f",
        "scrolled": true,
        "trusted": true
      },
      "outputs": [
        {
          "name": "stdout",
          "output_type": "stream",
          "text": [
            "/bin/bash: line 1: nvidia-smi: command not found\n",
            "tensorflow version: 2.17.0\n",
            "[]\n",
            "[PhysicalDevice(name='/physical_device:CPU:0', device_type='CPU')]\n"
          ]
        }
      ],
      "source": [
        "from pathlib import Path\n",
        "import tensorflow as tf\n",
        "\n",
        "gpu_check()\n",
        "\n",
        "# gpu_set(True)\n",
        "# gpu_set(False)\n"
      ]
    },
    {
      "cell_type": "code",
      "execution_count": 4,
      "metadata": {
        "colab": {
          "base_uri": "https://localhost:8080/"
        },
        "execution": {
          "iopub.execute_input": "2024-09-07T14:34:18.323220Z",
          "iopub.status.busy": "2024-09-07T14:34:18.321774Z",
          "iopub.status.idle": "2024-09-07T14:34:18.414189Z",
          "shell.execute_reply": "2024-09-07T14:34:18.412841Z",
          "shell.execute_reply.started": "2024-09-07T14:34:18.323150Z"
        },
        "id": "AhHXe__ooAac",
        "outputId": "34498a6e-7b22-4dad-9b5b-5e48a3db2fb4",
        "trusted": true
      },
      "outputs": [
        {
          "name": "stdout",
          "output_type": "stream",
          "text": [
            "CWD = [/home/franklin/data/dat/sctp-caps-log-classifier]\n",
            "CWD = [/home/franklin/data/dat/sctp-caps-log-classifier]\n",
            "HTTP_ACCESS_LOG_FILE = [/home/franklin/data/dat/sctp-caps-log-classifier/access_log]\n",
            "MESSAGES_FILE = [/home/franklin/data/dat/sctp-caps-log-classifier/messages]\n",
            "HTTP_ACCESS_LOG_CSV = [/home/franklin/data/dat/sctp-caps-log-classifier/access_log_final.csv]\n",
            "MESSAGES_CSV = [/home/franklin/data/dat/sctp-caps-log-classifier/messages_final.csv]\n",
            "TFIDF_FILE = [/home/franklin/data/dat/sctp-caps-log-classifier/tfidf_vectorizer.sav]\n",
            "MODEL_FILE = [/home/franklin/data/dat/sctp-caps-log-classifier/log_classifier_model.sav]\n",
            "CWD ='/home/franklin/data/dat/sctp-caps-log-classifier'\n"
          ]
        }
      ],
      "source": [
        "import os\n",
        "import shutil\n",
        "from pathlib import Path\n",
        "\n",
        "LOG_TYPES = list() # to be updated from `tfidf.LABEL_ENCODER().fit_transform()`\n",
        "\n",
        "if RunningInCOLAB:\n",
        "    CWD = str(Path.cwd())\n",
        "    # DATA_DIR = \"../data\" # local vs code setup\n",
        "    DATA_DIR = \"/content\" # google colab\n",
        "    HTTP_ACCESS_LOG_FILE = DATA_DIR+\"/\"+\"access_log\"\n",
        "    MESSAGES_FILE = DATA_DIR+\"/\"+\"messages\"\n",
        "\n",
        "    HTTP_ACCESS_LOG_CSV = DATA_DIR+\"/\"+\"access_log_final.csv\"\n",
        "    MESSAGES_CSV = DATA_DIR+\"/\"+\"messages_final.csv\"\n",
        "\n",
        "    # filename for persisting the vectorizer and model\n",
        "    TFIDF_FILE = '/content/drive/MyDrive/sctp-capstone-ml-log-data/model/'+'tfidf_vectorizer.sav'\n",
        "    MODEL_FILE = '/content/drive/MyDrive/sctp-capstone-ml-log-data/model/'+'log_classifier_model.sav'\n",
        "\n",
        "    mount_gg_drive()\n",
        "\n",
        "elif RunningInKaggle:\n",
        "    CWD = str(Path.cwd())\n",
        "    DATA_DIR = CWD # kaggle\n",
        "    HTTP_ACCESS_LOG_FILE = DATA_DIR+\"/\"+\"access_log\"\n",
        "    MESSAGES_FILE = DATA_DIR+\"/\"+\"messages\"\n",
        "\n",
        "    HTTP_ACCESS_LOG_CSV = DATA_DIR+\"/\"+\"access_log_final.csv\"\n",
        "    MESSAGES_CSV = DATA_DIR+\"/\"+\"messages_final.csv\"\n",
        "\n",
        "    # filename for persisting the vectorizer and model\n",
        "    TFIDF_FILE = CWD+'/'+'tfidf_vectorizer.sav'\n",
        "    MODEL_FILE = CWD+'/'+'log_classifier_model.sav'\n",
        "\n",
        "    BASE_DIR = '/kaggle'\n",
        "    INPUT_DIR = BASE_DIR+'/input'\n",
        "\n",
        "    print(f\"BASE_DIR = {BASE_DIR}\")\n",
        "    print(f\"CWD = {CWD}\")\n",
        "    print(f\"INPUT_DIR = {INPUT_DIR}\")\n",
        "\n",
        "    print(f\"\\nFile listing in {BASE_DIR}\")\n",
        "    find_files(p_dir = BASE_DIR)\n",
        "else:\n",
        "    # running locally (PC/laptop)\n",
        "    CWD = str(Path.cwd())\n",
        "    # str(Path.cwd())\n",
        "    DATA_DIR = CWD\n",
        "    HTTP_ACCESS_LOG_FILE = DATA_DIR+\"/\"+\"access_log\"\n",
        "    MESSAGES_FILE = DATA_DIR+\"/\"+\"messages\"\n",
        "\n",
        "    HTTP_ACCESS_LOG_CSV = DATA_DIR+\"/\"+\"access_log_final.csv\"\n",
        "    MESSAGES_CSV = DATA_DIR+\"/\"+\"messages_final.csv\"\n",
        "\n",
        "    # filename for persisting the vectorizer and model\n",
        "    TFIDF_FILE = CWD+'/'+'tfidf_vectorizer.sav'\n",
        "    MODEL_FILE = CWD+'/'+'log_classifier_model.sav'\n",
        "\n",
        "def prn(variable):\n",
        "    variable_name = [name for name, value in locals().items() if value is variable][0]\n",
        "    if variable_name != 'variable': print(f\"{variable_name} = [{variable}]\")\n",
        "\n",
        "    variable_name = [name for name, value in globals().items() if value is variable][0]\n",
        "    if variable_name != 'variable': print(f\"{variable_name} = [{variable}]\")\n",
        "\n",
        "prn(CWD)\n",
        "prn(DATA_DIR)\n",
        "prn(HTTP_ACCESS_LOG_FILE)\n",
        "prn(MESSAGES_FILE)\n",
        "prn(HTTP_ACCESS_LOG_CSV)\n",
        "prn(MESSAGES_CSV)\n",
        "prn(TFIDF_FILE)\n",
        "prn(MODEL_FILE)\n",
        "\n",
        "print(f\"{CWD =}\")\n"
      ]
    },
    {
      "cell_type": "code",
      "execution_count": 5,
      "metadata": {
        "id": "yvLe00tjwuRu"
      },
      "outputs": [],
      "source": [
        "# requirements.txt\n",
        "reqs = \"\"\"\n",
        "pandas\n",
        "numpy\n",
        "icecream\n",
        "contractions\n",
        "Unidecode\n",
        "chardet\n",
        "gradio\n",
        "seaborn\n",
        "scikit-learn\n",
        "graphviz\n",
        "pydotplus\n",
        "\"\"\"\n",
        "with open('requirements.txt', 'w') as f:\n",
        "    f.write(reqs.strip())"
      ]
    },
    {
      "cell_type": "code",
      "execution_count": 6,
      "metadata": {
        "colab": {
          "base_uri": "https://localhost:8080/"
        },
        "execution": {
          "iopub.execute_input": "2024-09-07T14:34:18.415862Z",
          "iopub.status.busy": "2024-09-07T14:34:18.415493Z",
          "iopub.status.idle": "2024-09-07T14:34:36.751224Z",
          "shell.execute_reply": "2024-09-07T14:34:36.749792Z",
          "shell.execute_reply.started": "2024-09-07T14:34:18.415812Z"
        },
        "id": "wwLynjRphV0E",
        "outputId": "7a6dd22a-25d3-4d79-a40f-237fa8f7e15c",
        "scrolled": true,
        "trusted": true
      },
      "outputs": [
        {
          "name": "stdout",
          "output_type": "stream",
          "text": [
            "Note: you may need to restart the kernel to use updated packages.\n"
          ]
        }
      ],
      "source": [
        "# install python packages\n",
        "# %pip install -r /content/drive/MyDrive/sctp-capstone-ml-log-data/requirements.txt\n",
        "# %pip install -r /kaggle/input/sctp-requirements/requirements.txt\n",
        "%pip install -q -r ./requirements.txt"
      ]
    },
    {
      "cell_type": "code",
      "execution_count": 7,
      "metadata": {
        "execution": {
          "iopub.execute_input": "2024-09-07T14:34:36.753436Z",
          "iopub.status.busy": "2024-09-07T14:34:36.753010Z",
          "iopub.status.idle": "2024-09-07T14:34:41.540603Z",
          "shell.execute_reply": "2024-09-07T14:34:41.539330Z",
          "shell.execute_reply.started": "2024-09-07T14:34:36.753395Z"
        },
        "id": "iVtbfRYLnTWK",
        "trusted": true
      },
      "outputs": [],
      "source": [
        "# import libraries\n",
        "import pandas\n",
        "pandas.options.display.max_columns = None\n",
        "pandas.set_option('display.max_columns', None)\n",
        "pandas.option_context('mode.use_inf_as_na', True)\n",
        "\n",
        "import os\n",
        "import shutil\n",
        "from pathlib import Path\n",
        "import pandas as pd\n",
        "import numpy as np\n",
        "from pprint import pprint as pp\n",
        "import csv\n",
        "import contractions\n",
        "import string\n",
        "import re\n",
        "from unidecode import unidecode\n",
        "import dateutil\n",
        "from chardet import detect\n",
        "import pickle\n",
        "import gradio as gr\n",
        "import matplotlib.pyplot as plt\n",
        "import seaborn as sns\n",
        "import datetime\n",
        "import warnings\n",
        "warnings.filterwarnings(\"ignore\")\n",
        "from collections import Counter\n",
        "from sklearn.model_selection import train_test_split, GridSearchCV\n",
        "from sklearn.feature_extraction.text import TfidfVectorizer\n",
        "from sklearn.preprocessing import LabelEncoder\n",
        "from sklearn.pipeline import Pipeline\n",
        "from sklearn.ensemble import RandomForestClassifier\n",
        "from sklearn.metrics import classification_report, accuracy_score, confusion_matrix"
      ]
    },
    {
      "cell_type": "markdown",
      "metadata": {
        "id": "nt4z5Vc3hV0H"
      },
      "source": [
        "# Dataset\n",
        "\n",
        "Dataset on log files are hosted at [Public Security Log Sharing Site](https://log-sharing.dreamhosters.com/), supported by [Dr. Anton A. Chuvakin](https://www.chuvakin.org/)\n",
        "\n",
        "Bundle 1 log files is selected and accessible at [http://log-sharing.dreamhosters.com/hnet-hon-var-log-02282006.tgz](http://log-sharing.dreamhosters.com/hnet-hon-var-log-02282006.tgz)\n",
        "\n",
        "\n",
        "The target log files for analysis are found in:\n",
        "- `/var/log/httpd/access_log*`\n",
        "- `/var/log/messages*`\n",
        "\n",
        "These log files are:\n",
        "- download the log file bundle\n",
        "- untar the bundle\n",
        "- respective log files are concatenated\n"
      ]
    },
    {
      "cell_type": "code",
      "execution_count": 9,
      "metadata": {
        "execution": {
          "iopub.execute_input": "2024-09-07T14:34:41.542935Z",
          "iopub.status.busy": "2024-09-07T14:34:41.542134Z",
          "iopub.status.idle": "2024-09-07T14:34:50.876191Z",
          "shell.execute_reply": "2024-09-07T14:34:50.874784Z",
          "shell.execute_reply.started": "2024-09-07T14:34:41.542890Z"
        },
        "id": "JtwryUtZAp8p",
        "trusted": true
      },
      "outputs": [],
      "source": [
        "# Download log bundle\n",
        "# ```bash\n",
        "# !curl -L http://log-sharing.dreamhosters.com/hnet-hon-var-log-02282006.tgz -o hnet-hon-var-log-02282006.tgz\n",
        "# ```\n",
        "\n",
        "import requests\n",
        "\n",
        "url = 'http://log-sharing.dreamhosters.com/hnet-hon-var-log-02282006.tgz'\n",
        "tgt_file = 'hnet-hon-var-log-02282006.tgz'\n",
        "r = requests.get(url, allow_redirects=True)\n",
        "with open(tgt_file, 'wb') as fin:\n",
        "    fin.write(r.content)\n"
      ]
    },
    {
      "cell_type": "code",
      "execution_count": 10,
      "metadata": {
        "colab": {
          "base_uri": "https://localhost:8080/"
        },
        "execution": {
          "iopub.execute_input": "2024-09-07T14:34:50.878270Z",
          "iopub.status.busy": "2024-09-07T14:34:50.877729Z",
          "iopub.status.idle": "2024-09-07T14:34:55.552453Z",
          "shell.execute_reply": "2024-09-07T14:34:55.550799Z",
          "shell.execute_reply.started": "2024-09-07T14:34:50.878212Z"
        },
        "id": "doOXtvFZCdL0",
        "outputId": "47508190-2dcf-41b5-f0fc-b8db2cf9ed9e",
        "trusted": true
      },
      "outputs": [
        {
          "name": "stdout",
          "output_type": "stream",
          "text": [
            "tar_url = [hnet-hon-var-log-02282006.tgz]\n",
            "Done.\n"
          ]
        }
      ],
      "source": [
        "# unwrap bundle tarball\n",
        "# ```bash\n",
        "# !tar -C ./ -xf hnet-hon-var-log-02282006.tgz\n",
        "# ```\n",
        "\n",
        "import os, sys, tarfile\n",
        "\n",
        "tgt_file = 'hnet-hon-var-log-02282006.tgz'\n",
        "DL_FILE = tgt_file\n",
        "\n",
        "def extract(tar_url: str='test.tgz', extract_path='.'):\n",
        "    print(f\"tar_url = [{tar_url}]\")\n",
        "    tar = tarfile.open(tar_url, 'r')\n",
        "    for item in tar:\n",
        "        tar.extract(item, extract_path)\n",
        "        if item.name.find(\".tgz\") != -1 or item.name.find(\".tar\") != -1:\n",
        "            extract(item.name, \"./\" + item.name[:item.name.rfind('/')])\n",
        "\n",
        "try:\n",
        "    extract(DL_FILE)\n",
        "    print('Done.')\n",
        "except Exception as e:\n",
        "    print(e)\n"
      ]
    },
    {
      "cell_type": "code",
      "execution_count": 11,
      "metadata": {
        "colab": {
          "base_uri": "https://localhost:8080/"
        },
        "id": "tAmG0qJFVKpP",
        "outputId": "ce6ebdc1-9f94-4cba-f02f-0466ff4cb6df"
      },
      "outputs": [
        {
          "name": "stdout",
          "output_type": "stream",
          "text": [
            "/home/franklin/data/dat/sctp-caps-log-classifier\n",
            "/home/franklin/data/dat/sctp-caps-log-classifier\n",
            "/home/franklin/data/dat/sctp-caps-log-classifier\n"
          ]
        }
      ],
      "source": [
        "print(os.getcwd())\n",
        "print(CWD)\n",
        "print(DATA_DIR)"
      ]
    },
    {
      "cell_type": "code",
      "execution_count": 12,
      "metadata": {
        "colab": {
          "base_uri": "https://localhost:8080/"
        },
        "execution": {
          "iopub.execute_input": "2024-09-07T14:34:55.554448Z",
          "iopub.status.busy": "2024-09-07T14:34:55.554064Z",
          "iopub.status.idle": "2024-09-07T14:34:55.584108Z",
          "shell.execute_reply": "2024-09-07T14:34:55.582887Z",
          "shell.execute_reply.started": "2024-09-07T14:34:55.554408Z"
        },
        "id": "N2sWn3rFEFt1",
        "outputId": "6219c298-afaf-4309-f446-3b266316b36a",
        "trusted": true
      },
      "outputs": [
        {
          "name": "stdout",
          "output_type": "stream",
          "text": [
            "/home/franklin/data/dat/sctp-caps-log-classifier/messages line count: 25567\n",
            "/home/franklin/data/dat/sctp-caps-log-classifier/access_log line count: 36310\n",
            "Done\n"
          ]
        }
      ],
      "source": [
        "# combine log files for respective var/log/messages* and var/log/httpd/access_log* files\n",
        "# ```bash\n",
        "# !rm ./access_log\n",
        "# !rm ./messages\n",
        "# !ls ./var/log/httpd/ | grep access_log | xargs -I {} cat \"./var/log/httpd/{}\" >> ./access_log\n",
        "# !ls ./var/log/ | grep messages | xargs -I {} cat \"./var/log/{}\" >> ./messages\n",
        "# !wc -l /content/access_log\n",
        "# !wc -l /content/messages\n",
        "# ```\n",
        "\n",
        "import os\n",
        "import glob\n",
        "import pathlib\n",
        "\n",
        "\n",
        "# for root, dirs, files in os.walk(\"/mydir\",):\n",
        "def combine_files(p_dir: str = './var/log', p_startswith: str = 'messages'):\n",
        "    _CWD = os.getcwd()\n",
        "    # _CWD = DATA_DIR\n",
        "    os.chdir(p_dir)\n",
        "    filenames = []\n",
        "    # get all filenames\n",
        "    for file in glob.glob(p_startswith+'*'):\n",
        "        # print(file)\n",
        "        filenames.append(file)\n",
        "\n",
        "    total_line_cnt = 0\n",
        "    try:\n",
        "        # concatenate files\n",
        "        tgt_file = _CWD+'/'+p_startswith\n",
        "        with open(tgt_file, 'wb') as outfile:\n",
        "            for fname in filenames:\n",
        "                with open(fname, 'rb') as infile:\n",
        "                    outfile.write(infile.read())\n",
        "        os.chdir(_CWD)\n",
        "        with open(tgt_file, 'r', errors='ignore') as f:\n",
        "            cnt = len(f.readlines())\n",
        "            print(f\"{tgt_file} line count: {cnt}\")\n",
        "\n",
        "    except Exception as e:\n",
        "        print(e)\n",
        "        os.chdir(_CWD)\n",
        "\n",
        "\n",
        "os.chdir(DATA_DIR)\n",
        "pathlib.Path('./messages').unlink(missing_ok=True)\n",
        "pathlib.Path('./access_log').unlink(missing_ok=True)\n",
        "os.listdir('./')\n",
        "\n",
        "combine_files(p_dir = './var/log', p_startswith = 'messages')\n",
        "os.chdir(DATA_DIR)\n",
        "\n",
        "combine_files(p_dir = './var/log/httpd', p_startswith = 'access_log')\n",
        "os.chdir(DATA_DIR)\n",
        "\n",
        "print('Done')\n"
      ]
    },
    {
      "cell_type": "code",
      "execution_count": 13,
      "metadata": {
        "execution": {
          "iopub.execute_input": "2024-09-07T14:34:55.586387Z",
          "iopub.status.busy": "2024-09-07T14:34:55.585878Z",
          "iopub.status.idle": "2024-09-07T14:34:55.592543Z",
          "shell.execute_reply": "2024-09-07T14:34:55.591109Z",
          "shell.execute_reply.started": "2024-09-07T14:34:55.586332Z"
        },
        "id": "nPue8W8ohV0K",
        "scrolled": true,
        "trusted": true
      },
      "outputs": [],
      "source": [
        "# !cp ./access_log ./messages /content/drive/MyDrive/sctp-capstone-ml-log-data/dataset/\n",
        "\n",
        "# cleanup\n",
        "# !rm -rf ./hnet-hon-var-log-02282006.tgz ./var"
      ]
    },
    {
      "cell_type": "markdown",
      "metadata": {
        "id": "INqtoGC3hV0K"
      },
      "source": [
        "# Load, Clean and Convert to CSV File\n",
        "\n",
        "Main steps:\n",
        "1. Remove non-ascii characters from log files\n",
        "2. Convert log file to csv structure\n"
      ]
    },
    {
      "cell_type": "code",
      "execution_count": 14,
      "metadata": {
        "execution": {
          "iopub.execute_input": "2024-09-07T14:34:55.594847Z",
          "iopub.status.busy": "2024-09-07T14:34:55.594276Z",
          "iopub.status.idle": "2024-09-07T14:34:55.619385Z",
          "shell.execute_reply": "2024-09-07T14:34:55.617991Z",
          "shell.execute_reply.started": "2024-09-07T14:34:55.594766Z"
        },
        "id": "8HQM-NwUeaxi",
        "trusted": true
      },
      "outputs": [],
      "source": [
        "from chardet import detect\n",
        "def has_non_ascii(p_file: str = None):\n",
        "    cnt = 0\n",
        "    encoding = lambda x: detect(x)['encoding']\n",
        "    # with open(tgt_file+\".txt\", 'a', encoding='utf-a') as fout:\n",
        "    with open(tgt_file, 'rb') as f:\n",
        "        for i in f.readlines():\n",
        "            cnt += 1\n",
        "            if encoding(i) != 'ascii':\n",
        "                # print(f\"line {cnt} ... contains non-ascii characters.\")\n",
        "                print(f\"File {p_file} has non-ascii characters ... line [{cnt}] onwards.\")\n",
        "\n",
        "            # exit when first detected non-ascii line\n",
        "            if cnt>0: return True\n",
        "            else: return False\n",
        "\n",
        "\n",
        "def scrub_non_ascii(p_file: str = None):\n",
        "    cnt = 0\n",
        "    encoding = lambda x: detect(x)['encoding']\n",
        "\n",
        "    tgt_file = p_file\n",
        "    cnt = 0\n",
        "    line_nums = []\n",
        "    # detect lines with non-ascii characters\n",
        "    # https://www.w3schools.com/charsets/ref_html_8859.asp\n",
        "    with open(tgt_file, 'rb') as fin:\n",
        "        for i in fin.readlines():\n",
        "            cnt += 1\n",
        "            if encoding(i) != 'ascii':\n",
        "                # print(f\"line {cnt} ... contains {encoding(i)} characters ... ignored\")\n",
        "                line_nums.append(cnt)\n",
        "            # else:\n",
        "            #     print(f\"line {cnt} ... contains {encoding(i)} characters\")\n",
        "\n",
        "\n",
        "    print(f\"Lines with non-ascii characters:\\n{line_nums}\")\n",
        "    cnt = 0\n",
        "    with open(tgt_file, 'r', encoding='utf-8', errors='ignore') as fin:\n",
        "        with open(tgt_file+\".txt\", 'w', encoding='utf-8') as fout:\n",
        "            for i in fin.readlines():\n",
        "                cnt += 1\n",
        "                if cnt in line_nums:\n",
        "                    print(f\"line {cnt} ... skipped due to presence of non-ascii character.\")\n",
        "                else:\n",
        "                    fout.write(i)\n",
        "    print(f\"New file written to [{tgt_file}.txt]\")\n",
        "    return f\"{tgt_file}.txt\"\n",
        "\n",
        "def clean_str(p_str: str=None):\n",
        "\n",
        "    str_lower = lambda x: str(x).lower() # lower casing\n",
        "    str_exp_contraction = lambda x: \" \".join([contractions.fix(expanded_word) for expanded_word in x.split()]) # expand contractions\n",
        "    # str_rm_punct = lambda x: re.sub('[%s]' % re.escape(string.punctuation.replace('/', '').replace('@','')), ' ' , x) # remove punctuations except '/' and '@'\n",
        "    str_rm_punct = lambda x: re.sub('[%s]' % re.escape(string.punctuation), ' ' , x) # remove punctuations\n",
        "    str_rm_spaces = lambda x: re.sub(' +', ' ', x) # remove double spaces\n",
        "    str_rpl_diacritics = lambda x: unidecode(x, errors=\"preserve\") # replace Diacritics with nearest characters.\n",
        "    str_rm_chr = lambda x: ' '.join([ i for i in x.split() if len(i)>2 ]) # remove 1 and 2 characters string\n",
        "\n",
        "    p_str = str_lower(p_str)\n",
        "    p_str = str_exp_contraction(p_str)\n",
        "    p_str = str_rm_punct(p_str)\n",
        "    p_str = str_rm_spaces(p_str)\n",
        "    p_str = str_rpl_diacritics(p_str)\n",
        "    p_str = str_rm_chr(p_str)\n",
        "    return p_str\n",
        "\n",
        "def clean_logs(p_entry: pandas.Series=None):\n",
        "    p_entry = pandas.Series(p_entry).apply(clean_str)\n",
        "    return p_entry\n",
        "\n",
        "# def save_model(p_obj=None, p_filename: str='/content/drive/MyDrive/sctp-capstone-ml-log-data/model/'+'log_classifier_model.sav'):\n",
        "def save_obj(p_obj=None, p_filename: str='/content/drive/MyDrive/sctp-capstone-ml-log-data/model/'+'log_classifier_model.sav'):\n",
        "    # save the model to disk\n",
        "    filename = '/content/drive/MyDrive/sctp-capstone-ml-log-data/model/'+'log_classifier_model.sav'\n",
        "    # pickle.dump(best_model, open(filename, 'wb'))\n",
        "    pickle.dump(p_obj, open(p_filename, 'wb'))\n",
        "\n",
        "# def load_model(p_filename: str = '/content/drive/MyDrive/sctp-capstone-ml-log-data/model/'+'log_classifier_model.sav'):\n",
        "def load_obj(p_filename: str = '/content/drive/MyDrive/sctp-capstone-ml-log-data/model/'+'log_classifier_model.sav'):\n",
        "    # load the model from disk\n",
        "    # filename = '/content/drive/MyDrive/sctp-capstone-ml-log-data/model/'+'log_classifier_model.sav'\n",
        "    return pickle.load(open(p_filename, 'rb'))\n"
      ]
    },
    {
      "cell_type": "markdown",
      "metadata": {
        "id": "WfSZV1kG0EJE"
      },
      "source": [
        "## httpd `access_log`"
      ]
    },
    {
      "cell_type": "markdown",
      "metadata": {
        "id": "oEPUPPsLhV0P"
      },
      "source": [
        "### Convert to csv format"
      ]
    },
    {
      "cell_type": "code",
      "execution_count": 15,
      "metadata": {
        "execution": {
          "iopub.execute_input": "2024-09-07T14:34:55.621853Z",
          "iopub.status.busy": "2024-09-07T14:34:55.621265Z",
          "iopub.status.idle": "2024-09-07T14:34:55.637474Z",
          "shell.execute_reply": "2024-09-07T14:34:55.636132Z",
          "shell.execute_reply.started": "2024-09-07T14:34:55.621772Z"
        },
        "id": "N0ga1OG8eOaa",
        "trusted": true
      },
      "outputs": [],
      "source": [
        "tgt_file = HTTP_ACCESS_LOG_FILE"
      ]
    },
    {
      "cell_type": "code",
      "execution_count": 16,
      "metadata": {
        "colab": {
          "base_uri": "https://localhost:8080/"
        },
        "execution": {
          "iopub.execute_input": "2024-09-07T14:34:55.644857Z",
          "iopub.status.busy": "2024-09-07T14:34:55.644415Z",
          "iopub.status.idle": "2024-09-07T14:35:16.833200Z",
          "shell.execute_reply": "2024-09-07T14:35:16.831862Z",
          "shell.execute_reply.started": "2024-09-07T14:34:55.644786Z"
        },
        "id": "DiFdvOs2hV0Q",
        "outputId": "cacfdbf2-6c94-4074-ec97-8ed6eb77dc95",
        "trusted": true
      },
      "outputs": [
        {
          "name": "stdout",
          "output_type": "stream",
          "text": [
            "Lines with non-ascii characters:\n",
            "[]\n",
            "New file written to [/home/franklin/data/dat/sctp-caps-log-classifier/access_log.txt]\n",
            "[['222.166.160.184',\n",
            "  '04/Dec/2005:05:15:00',\n",
            "  '222.166.160.184 - - [04/Dec/2005:05:15:00 -0500] \"GET / HTTP/1.1\" 403 3931 '\n",
            "  '\"-\" \"Mozilla/4.0 (compatible; MSIE 5.5; Windows 98)\"\\n',\n",
            "  'httpd_access_log'],\n",
            " ['63.13.186.196',\n",
            "  '04/Dec/2005:07:45:41',\n",
            "  '63.13.186.196 - - [04/Dec/2005:07:45:41 -0500] \"GET / HTTP/1.0\" 403 3931 '\n",
            "  '\"-\" \"-\"\\n',\n",
            "  'httpd_access_log']]\n"
          ]
        }
      ],
      "source": [
        "import csv\n",
        "\n",
        "def httpd_access_log_to_csv(p_file: str = None) -> list:\n",
        "    logs = list()\n",
        "    cnt = 0\n",
        "    tgt_file = p_file\n",
        "    if has_non_ascii(tgt_file):\n",
        "        tgt_file = scrub_non_ascii(tgt_file)\n",
        "\n",
        "    with open(tgt_file, 'r') as f:\n",
        "        for i in f.readlines():\n",
        "            cnt += 1\n",
        "            # print(cnt)\n",
        "            j = (i\n",
        "                .replace('- [', '- @@')\n",
        "                .replace('] \"', '@@ \"')\n",
        "            )\n",
        "            k = [ m.strip() for m in j.split('@@')]\n",
        "            k[0] = k[0].replace(' - -', '')\n",
        "            k[1] = k[1].replace(' -0500', '')\n",
        "            k[1] = k[1].replace(' -0400', '')\n",
        "            # k[2] = (k[2]\n",
        "            #         .replace('\"', '][')\n",
        "            #         )        # print(k)\n",
        "            # k[2] = k[2][1:-1]\n",
        "            k[2] = i # keep the entire log entry training\n",
        "            k.append('httpd_access_log')\n",
        "            logs.append(k)\n",
        "    return logs\n",
        "\n",
        "\n",
        "logs = httpd_access_log_to_csv(tgt_file)\n",
        "fields = ['ipaddress','datetime','content','log_type']\n",
        "# pp(logs[:3])\n",
        "with open(tgt_file+'.csv', 'w') as f:\n",
        "    # using csv.writer method from CSV package\n",
        "    write = csv.writer(f)\n",
        "    write.writerow(fields)\n",
        "    write.writerows(logs)\n",
        "\n",
        "pp(logs[:2])\n"
      ]
    },
    {
      "cell_type": "markdown",
      "metadata": {
        "id": "UOmFjDPhzngP"
      },
      "source": [
        "### Feature Extraction"
      ]
    },
    {
      "cell_type": "code",
      "execution_count": 17,
      "metadata": {
        "colab": {
          "base_uri": "https://localhost:8080/",
          "height": 1000
        },
        "execution": {
          "iopub.execute_input": "2024-09-07T14:35:16.835060Z",
          "iopub.status.busy": "2024-09-07T14:35:16.834651Z",
          "iopub.status.idle": "2024-09-07T14:35:28.829601Z",
          "shell.execute_reply": "2024-09-07T14:35:28.828070Z",
          "shell.execute_reply.started": "2024-09-07T14:35:16.835017Z"
        },
        "id": "afCF83lThV0W",
        "outputId": "cafa58ba-b668-4bcf-95e7-f216655bae2d",
        "trusted": true
      },
      "outputs": [
        {
          "data": {
            "text/html": [
              "<div>\n",
              "<style scoped>\n",
              "    .dataframe tbody tr th:only-of-type {\n",
              "        vertical-align: middle;\n",
              "    }\n",
              "\n",
              "    .dataframe tbody tr th {\n",
              "        vertical-align: top;\n",
              "    }\n",
              "\n",
              "    .dataframe thead th {\n",
              "        text-align: right;\n",
              "    }\n",
              "</style>\n",
              "<table border=\"1\" class=\"dataframe\">\n",
              "  <thead>\n",
              "    <tr style=\"text-align: right;\">\n",
              "      <th></th>\n",
              "      <th>ipaddress</th>\n",
              "      <th>datetime</th>\n",
              "      <th>content</th>\n",
              "      <th>log_type</th>\n",
              "    </tr>\n",
              "  </thead>\n",
              "  <tbody>\n",
              "    <tr>\n",
              "      <th>0</th>\n",
              "      <td>222.166.160.184</td>\n",
              "      <td>04/Dec/2005:05:15:00</td>\n",
              "      <td>222.166.160.184 - - [04/Dec/2005:05:15:00 -050...</td>\n",
              "      <td>httpd_access_log</td>\n",
              "    </tr>\n",
              "    <tr>\n",
              "      <th>1</th>\n",
              "      <td>63.13.186.196</td>\n",
              "      <td>04/Dec/2005:07:45:41</td>\n",
              "      <td>63.13.186.196 - - [04/Dec/2005:07:45:41 -0500]...</td>\n",
              "      <td>httpd_access_log</td>\n",
              "    </tr>\n",
              "    <tr>\n",
              "      <th>2</th>\n",
              "      <td>147.31.138.75</td>\n",
              "      <td>04/Dec/2005:08:54:16</td>\n",
              "      <td>147.31.138.75 - - [04/Dec/2005:08:54:16 -0500]...</td>\n",
              "      <td>httpd_access_log</td>\n",
              "    </tr>\n",
              "    <tr>\n",
              "      <th>3</th>\n",
              "      <td>207.203.80.15</td>\n",
              "      <td>04/Dec/2005:09:35:11</td>\n",
              "      <td>207.203.80.15 - - [04/Dec/2005:09:35:11 -0500]...</td>\n",
              "      <td>httpd_access_log</td>\n",
              "    </tr>\n",
              "    <tr>\n",
              "      <th>4</th>\n",
              "      <td>218.76.139.20</td>\n",
              "      <td>04/Dec/2005:10:53:29</td>\n",
              "      <td>218.76.139.20 - - [04/Dec/2005:10:53:29 -0500]...</td>\n",
              "      <td>httpd_access_log</td>\n",
              "    </tr>\n",
              "  </tbody>\n",
              "</table>\n",
              "</div>"
            ],
            "text/plain": [
              "         ipaddress              datetime  \\\n",
              "0  222.166.160.184  04/Dec/2005:05:15:00   \n",
              "1    63.13.186.196  04/Dec/2005:07:45:41   \n",
              "2    147.31.138.75  04/Dec/2005:08:54:16   \n",
              "3    207.203.80.15  04/Dec/2005:09:35:11   \n",
              "4    218.76.139.20  04/Dec/2005:10:53:29   \n",
              "\n",
              "                                             content          log_type  \n",
              "0  222.166.160.184 - - [04/Dec/2005:05:15:00 -050...  httpd_access_log  \n",
              "1  63.13.186.196 - - [04/Dec/2005:07:45:41 -0500]...  httpd_access_log  \n",
              "2  147.31.138.75 - - [04/Dec/2005:08:54:16 -0500]...  httpd_access_log  \n",
              "3  207.203.80.15 - - [04/Dec/2005:09:35:11 -0500]...  httpd_access_log  \n",
              "4  218.76.139.20 - - [04/Dec/2005:10:53:29 -0500]...  httpd_access_log  "
            ]
          },
          "metadata": {},
          "output_type": "display_data"
        },
        {
          "data": {
            "text/plain": [
              "0    222.166.160.184 - - [04/Dec/2005:05:15:00 -050...\n",
              "1    63.13.186.196 - - [04/Dec/2005:07:45:41 -0500]...\n",
              "2    147.31.138.75 - - [04/Dec/2005:08:54:16 -0500]...\n",
              "3    207.203.80.15 - - [04/Dec/2005:09:35:11 -0500]...\n",
              "4    218.76.139.20 - - [04/Dec/2005:10:53:29 -0500]...\n",
              "Name: content, dtype: object"
            ]
          },
          "metadata": {},
          "output_type": "display_data"
        },
        {
          "name": "stdout",
          "output_type": "stream",
          "text": [
            "<class 'pandas.core.frame.DataFrame'>\n",
            "RangeIndex: 36310 entries, 0 to 36309\n",
            "Data columns (total 9 columns):\n",
            " #   Column    Non-Null Count  Dtype         \n",
            "---  ------    --------------  -----         \n",
            " 0   datetime  36310 non-null  datetime64[ns]\n",
            " 1   content   36310 non-null  object        \n",
            " 2   log_type  36310 non-null  object        \n",
            " 3   day       36310 non-null  int32         \n",
            " 4   month     36310 non-null  int32         \n",
            " 5   year      36310 non-null  int32         \n",
            " 6   hour      36310 non-null  int32         \n",
            " 7   minute    36310 non-null  int32         \n",
            " 8   second    36310 non-null  int32         \n",
            "dtypes: datetime64[ns](1), int32(6), object(2)\n",
            "memory usage: 1.7+ MB\n"
          ]
        },
        {
          "data": {
            "text/html": [
              "<div>\n",
              "<style scoped>\n",
              "    .dataframe tbody tr th:only-of-type {\n",
              "        vertical-align: middle;\n",
              "    }\n",
              "\n",
              "    .dataframe tbody tr th {\n",
              "        vertical-align: top;\n",
              "    }\n",
              "\n",
              "    .dataframe thead th {\n",
              "        text-align: right;\n",
              "    }\n",
              "</style>\n",
              "<table border=\"1\" class=\"dataframe\">\n",
              "  <thead>\n",
              "    <tr style=\"text-align: right;\">\n",
              "      <th></th>\n",
              "      <th>datetime</th>\n",
              "      <th>content</th>\n",
              "      <th>log_type</th>\n",
              "      <th>day</th>\n",
              "      <th>month</th>\n",
              "      <th>year</th>\n",
              "      <th>hour</th>\n",
              "      <th>minute</th>\n",
              "      <th>second</th>\n",
              "    </tr>\n",
              "  </thead>\n",
              "  <tbody>\n",
              "    <tr>\n",
              "      <th>0</th>\n",
              "      <td>2005-12-04 05:15:00</td>\n",
              "      <td>222.166.160.184 - - [04/Dec/2005:05:15:00 -050...</td>\n",
              "      <td>httpd_access_log</td>\n",
              "      <td>4</td>\n",
              "      <td>12</td>\n",
              "      <td>2005</td>\n",
              "      <td>5</td>\n",
              "      <td>15</td>\n",
              "      <td>0</td>\n",
              "    </tr>\n",
              "    <tr>\n",
              "      <th>1</th>\n",
              "      <td>2005-12-04 07:45:41</td>\n",
              "      <td>63.13.186.196 - - [04/Dec/2005:07:45:41 -0500]...</td>\n",
              "      <td>httpd_access_log</td>\n",
              "      <td>4</td>\n",
              "      <td>12</td>\n",
              "      <td>2005</td>\n",
              "      <td>7</td>\n",
              "      <td>45</td>\n",
              "      <td>41</td>\n",
              "    </tr>\n",
              "    <tr>\n",
              "      <th>2</th>\n",
              "      <td>2005-12-04 08:54:16</td>\n",
              "      <td>147.31.138.75 - - [04/Dec/2005:08:54:16 -0500]...</td>\n",
              "      <td>httpd_access_log</td>\n",
              "      <td>4</td>\n",
              "      <td>12</td>\n",
              "      <td>2005</td>\n",
              "      <td>8</td>\n",
              "      <td>54</td>\n",
              "      <td>16</td>\n",
              "    </tr>\n",
              "    <tr>\n",
              "      <th>3</th>\n",
              "      <td>2005-12-04 09:35:11</td>\n",
              "      <td>207.203.80.15 - - [04/Dec/2005:09:35:11 -0500]...</td>\n",
              "      <td>httpd_access_log</td>\n",
              "      <td>4</td>\n",
              "      <td>12</td>\n",
              "      <td>2005</td>\n",
              "      <td>9</td>\n",
              "      <td>35</td>\n",
              "      <td>11</td>\n",
              "    </tr>\n",
              "    <tr>\n",
              "      <th>4</th>\n",
              "      <td>2005-12-04 10:53:29</td>\n",
              "      <td>218.76.139.20 - - [04/Dec/2005:10:53:29 -0500]...</td>\n",
              "      <td>httpd_access_log</td>\n",
              "      <td>4</td>\n",
              "      <td>12</td>\n",
              "      <td>2005</td>\n",
              "      <td>10</td>\n",
              "      <td>53</td>\n",
              "      <td>29</td>\n",
              "    </tr>\n",
              "  </tbody>\n",
              "</table>\n",
              "</div>"
            ],
            "text/plain": [
              "             datetime                                            content  \\\n",
              "0 2005-12-04 05:15:00  222.166.160.184 - - [04/Dec/2005:05:15:00 -050...   \n",
              "1 2005-12-04 07:45:41  63.13.186.196 - - [04/Dec/2005:07:45:41 -0500]...   \n",
              "2 2005-12-04 08:54:16  147.31.138.75 - - [04/Dec/2005:08:54:16 -0500]...   \n",
              "3 2005-12-04 09:35:11  207.203.80.15 - - [04/Dec/2005:09:35:11 -0500]...   \n",
              "4 2005-12-04 10:53:29  218.76.139.20 - - [04/Dec/2005:10:53:29 -0500]...   \n",
              "\n",
              "           log_type  day  month  year  hour  minute  second  \n",
              "0  httpd_access_log    4     12  2005     5      15       0  \n",
              "1  httpd_access_log    4     12  2005     7      45      41  \n",
              "2  httpd_access_log    4     12  2005     8      54      16  \n",
              "3  httpd_access_log    4     12  2005     9      35      11  \n",
              "4  httpd_access_log    4     12  2005    10      53      29  "
            ]
          },
          "metadata": {},
          "output_type": "display_data"
        },
        {
          "data": {
            "text/html": [
              "<div>\n",
              "<style scoped>\n",
              "    .dataframe tbody tr th:only-of-type {\n",
              "        vertical-align: middle;\n",
              "    }\n",
              "\n",
              "    .dataframe tbody tr th {\n",
              "        vertical-align: top;\n",
              "    }\n",
              "\n",
              "    .dataframe thead th {\n",
              "        text-align: right;\n",
              "    }\n",
              "</style>\n",
              "<table border=\"1\" class=\"dataframe\">\n",
              "  <thead>\n",
              "    <tr style=\"text-align: right;\">\n",
              "      <th></th>\n",
              "      <th>datetime</th>\n",
              "      <th>content</th>\n",
              "      <th>log_type</th>\n",
              "      <th>day</th>\n",
              "      <th>month</th>\n",
              "      <th>year</th>\n",
              "      <th>hour</th>\n",
              "      <th>minute</th>\n",
              "      <th>second</th>\n",
              "    </tr>\n",
              "  </thead>\n",
              "  <tbody>\n",
              "    <tr>\n",
              "      <th>0</th>\n",
              "      <td>2005-12-04 05:15:00</td>\n",
              "      <td>222 166 160 184 dec 2005 0500 get http 403 393...</td>\n",
              "      <td>httpd_access_log</td>\n",
              "      <td>4</td>\n",
              "      <td>12</td>\n",
              "      <td>2005</td>\n",
              "      <td>5</td>\n",
              "      <td>15</td>\n",
              "      <td>0</td>\n",
              "    </tr>\n",
              "    <tr>\n",
              "      <th>1</th>\n",
              "      <td>2005-12-04 07:45:41</td>\n",
              "      <td>186 196 dec 2005 0500 get http 403 3931</td>\n",
              "      <td>httpd_access_log</td>\n",
              "      <td>4</td>\n",
              "      <td>12</td>\n",
              "      <td>2005</td>\n",
              "      <td>7</td>\n",
              "      <td>45</td>\n",
              "      <td>41</td>\n",
              "    </tr>\n",
              "    <tr>\n",
              "      <th>2</th>\n",
              "      <td>2005-12-04 08:54:16</td>\n",
              "      <td>147 138 dec 2005 0500 get http 403 3931 mozill...</td>\n",
              "      <td>httpd_access_log</td>\n",
              "      <td>4</td>\n",
              "      <td>12</td>\n",
              "      <td>2005</td>\n",
              "      <td>8</td>\n",
              "      <td>54</td>\n",
              "      <td>16</td>\n",
              "    </tr>\n",
              "    <tr>\n",
              "      <th>3</th>\n",
              "      <td>2005-12-04 09:35:11</td>\n",
              "      <td>207 203 dec 2005 0500 get http 403 3931 mozill...</td>\n",
              "      <td>httpd_access_log</td>\n",
              "      <td>4</td>\n",
              "      <td>12</td>\n",
              "      <td>2005</td>\n",
              "      <td>9</td>\n",
              "      <td>35</td>\n",
              "      <td>11</td>\n",
              "    </tr>\n",
              "    <tr>\n",
              "      <th>4</th>\n",
              "      <td>2005-12-04 10:53:29</td>\n",
              "      <td>218 139 dec 2005 0500 get http 403 3931 mozill...</td>\n",
              "      <td>httpd_access_log</td>\n",
              "      <td>4</td>\n",
              "      <td>12</td>\n",
              "      <td>2005</td>\n",
              "      <td>10</td>\n",
              "      <td>53</td>\n",
              "      <td>29</td>\n",
              "    </tr>\n",
              "  </tbody>\n",
              "</table>\n",
              "</div>"
            ],
            "text/plain": [
              "             datetime                                            content  \\\n",
              "0 2005-12-04 05:15:00  222 166 160 184 dec 2005 0500 get http 403 393...   \n",
              "1 2005-12-04 07:45:41            186 196 dec 2005 0500 get http 403 3931   \n",
              "2 2005-12-04 08:54:16  147 138 dec 2005 0500 get http 403 3931 mozill...   \n",
              "3 2005-12-04 09:35:11  207 203 dec 2005 0500 get http 403 3931 mozill...   \n",
              "4 2005-12-04 10:53:29  218 139 dec 2005 0500 get http 403 3931 mozill...   \n",
              "\n",
              "           log_type  day  month  year  hour  minute  second  \n",
              "0  httpd_access_log    4     12  2005     5      15       0  \n",
              "1  httpd_access_log    4     12  2005     7      45      41  \n",
              "2  httpd_access_log    4     12  2005     8      54      16  \n",
              "3  httpd_access_log    4     12  2005     9      35      11  \n",
              "4  httpd_access_log    4     12  2005    10      53      29  "
            ]
          },
          "metadata": {},
          "output_type": "display_data"
        }
      ],
      "source": [
        "tgt_file = HTTP_ACCESS_LOG_FILE+'.csv'\n",
        "\n",
        "df = pd.read_csv(tgt_file)\n",
        "display(df.head())\n",
        "display(df['content'].head())\n",
        "# print(f\"[{df[:2]['datetime'].str.lower()}]\")\n",
        "# df['date'] = df['datetime'].str[:11]\n",
        "# df['time'] = df['datetime'].str[12:]\n",
        "df['datetime'] = df['datetime'].str.replace(\":\",\" \", 1)\n",
        "df['datetime'] = pd.to_datetime(df['datetime'],dayfirst=True)\n",
        "df['day'] = df['datetime'].dt.day\n",
        "df['month'] = df['datetime'].dt.month\n",
        "df['year'] = df['datetime'].dt.year\n",
        "# df['day_of_week'] = df['datetime'].dt.day_name()\n",
        "df['hour'] = df['datetime'].dt.hour\n",
        "df['minute'] = df['datetime'].dt.minute\n",
        "df['second'] = df['datetime'].dt.second\n",
        "df.drop('ipaddress', inplace=True, axis=1)\n",
        "\n",
        "df.info()\n",
        "display(df.head())\n",
        "\n",
        "df['content'] = clean_logs(df['content'])\n",
        "# display(df['content'].head())\n",
        "display(df.head())\n",
        "\n",
        "# df = df[df['content'].notnull()]\n",
        "# display(df[df['content'].isnull()])\n",
        "\n",
        "tgt_file = HTTP_ACCESS_LOG_FILE+'_final.csv'\n",
        "df.to_csv(tgt_file,index=False)\n"
      ]
    },
    {
      "cell_type": "markdown",
      "metadata": {
        "id": "yiCFHhzC0quk"
      },
      "source": [
        "## `messages` log"
      ]
    },
    {
      "cell_type": "markdown",
      "metadata": {
        "id": "SQBnOxAihV0Q"
      },
      "source": [
        "### Convert to csv format\n"
      ]
    },
    {
      "cell_type": "code",
      "execution_count": 18,
      "metadata": {
        "colab": {
          "base_uri": "https://localhost:8080/"
        },
        "execution": {
          "iopub.execute_input": "2024-09-07T14:35:28.831729Z",
          "iopub.status.busy": "2024-09-07T14:35:28.831276Z",
          "iopub.status.idle": "2024-09-07T14:35:37.004397Z",
          "shell.execute_reply": "2024-09-07T14:35:37.002690Z",
          "shell.execute_reply.started": "2024-09-07T14:35:28.831673Z"
        },
        "id": "PPKkYt7ghV0Q",
        "outputId": "7c9b7127-73db-440a-cce1-7b13e7cfebc5",
        "trusted": true
      },
      "outputs": [
        {
          "name": "stdout",
          "output_type": "stream",
          "text": [
            "Lines with non-ascii characters:\n",
            "[323, 324, 5797, 5798, 5799, 5800, 5801, 5802, 11680, 11681, 11682, 11683, 11684, 15251, 15943, 15944, 15945, 21109, 25426, 25427]\n",
            "line 323 ... skipped due to presence of non-ascii character.\n",
            "line 324 ... skipped due to presence of non-ascii character.\n",
            "line 5797 ... skipped due to presence of non-ascii character.\n",
            "line 5798 ... skipped due to presence of non-ascii character.\n",
            "line 5799 ... skipped due to presence of non-ascii character.\n",
            "line 5800 ... skipped due to presence of non-ascii character.\n",
            "line 5801 ... skipped due to presence of non-ascii character.\n",
            "line 5802 ... skipped due to presence of non-ascii character.\n",
            "line 11680 ... skipped due to presence of non-ascii character.\n",
            "line 11681 ... skipped due to presence of non-ascii character.\n",
            "line 11682 ... skipped due to presence of non-ascii character.\n",
            "line 11683 ... skipped due to presence of non-ascii character.\n",
            "line 11684 ... skipped due to presence of non-ascii character.\n",
            "line 15251 ... skipped due to presence of non-ascii character.\n",
            "line 15943 ... skipped due to presence of non-ascii character.\n",
            "line 15944 ... skipped due to presence of non-ascii character.\n",
            "line 15945 ... skipped due to presence of non-ascii character.\n",
            "line 21109 ... skipped due to presence of non-ascii character.\n",
            "line 25426 ... skipped due to presence of non-ascii character.\n",
            "line 25427 ... skipped due to presence of non-ascii character.\n",
            "New file written to [/home/franklin/data/dat/sctp-caps-log-classifier/messages.txt]\n"
          ]
        }
      ],
      "source": [
        "tgt_file = MESSAGES_FILE\n",
        "\n",
        "def sys_msg_to_csv(p_file: str = None) -> list:\n",
        "    msg = list()\n",
        "    cnt = 0\n",
        "    tgt_file = p_file\n",
        "    if has_non_ascii(tgt_file):\n",
        "        tgt_file = scrub_non_ascii(tgt_file)\n",
        "\n",
        "    with open(tgt_file, 'r', encoding='utf-8') as f:\n",
        "        for i in f.readlines():\n",
        "            cnt += 1\n",
        "            # print(cnt)\n",
        "            j = (i\n",
        "                .replace(' combo ', '@@')\n",
        "            )\n",
        "            k = [ m.strip() for m in j.split('@@')]\n",
        "\n",
        "            k[1] = k[1].replace(':', '@@', 1)\n",
        "            tmp = k[1].split('@@')\n",
        "            # print(f\"{len(tmp)} {tmp}\")\n",
        "            k[1] = tmp[0].strip()\n",
        "            if len(tmp)>1:\n",
        "                # k.append(tmp[1].strip())\n",
        "                k.append(i) # keep the entire log entry for training\n",
        "            else:\n",
        "                k.append([''])\n",
        "            k.append('system_messages')\n",
        "            msg.append(k)\n",
        "\n",
        "    # ic(msg)\n",
        "    return msg\n",
        "\n",
        "\n",
        "msg = sys_msg_to_csv(tgt_file)\n",
        "\n",
        "fields = ['datetime','component','content','log_type']\n",
        "with open(tgt_file+'.csv', 'w') as f:\n",
        "    # using csv.writer method from CSV package\n",
        "    write = csv.writer(f)\n",
        "    write.writerow(fields)\n",
        "    write.writerows(msg)"
      ]
    },
    {
      "cell_type": "markdown",
      "metadata": {
        "id": "pwX0JpylhV0W"
      },
      "source": [
        "### Feature Extraction"
      ]
    },
    {
      "cell_type": "code",
      "execution_count": 19,
      "metadata": {
        "colab": {
          "base_uri": "https://localhost:8080/",
          "height": 482
        },
        "execution": {
          "iopub.execute_input": "2024-09-07T14:35:37.006436Z",
          "iopub.status.busy": "2024-09-07T14:35:37.006034Z",
          "iopub.status.idle": "2024-09-07T14:35:43.223609Z",
          "shell.execute_reply": "2024-09-07T14:35:43.222419Z",
          "shell.execute_reply.started": "2024-09-07T14:35:37.006394Z"
        },
        "id": "OLWMG0BOhV0W",
        "outputId": "4de7896b-76a3-4833-a6cd-775657c58e46",
        "trusted": true
      },
      "outputs": [
        {
          "data": {
            "text/html": [
              "<div>\n",
              "<style scoped>\n",
              "    .dataframe tbody tr th:only-of-type {\n",
              "        vertical-align: middle;\n",
              "    }\n",
              "\n",
              "    .dataframe tbody tr th {\n",
              "        vertical-align: top;\n",
              "    }\n",
              "\n",
              "    .dataframe thead th {\n",
              "        text-align: right;\n",
              "    }\n",
              "</style>\n",
              "<table border=\"1\" class=\"dataframe\">\n",
              "  <thead>\n",
              "    <tr style=\"text-align: right;\">\n",
              "      <th></th>\n",
              "      <th>datetime</th>\n",
              "      <th>component</th>\n",
              "      <th>content</th>\n",
              "      <th>log_type</th>\n",
              "    </tr>\n",
              "  </thead>\n",
              "  <tbody>\n",
              "    <tr>\n",
              "      <th>0</th>\n",
              "      <td>Nov 13 04:15:47</td>\n",
              "      <td>syslogd 1.4.1</td>\n",
              "      <td>Nov 13 04:15:47 combo syslogd 1.4.1: restart.\\n</td>\n",
              "      <td>system_messages</td>\n",
              "    </tr>\n",
              "    <tr>\n",
              "      <th>1</th>\n",
              "      <td>Nov 13 04:15:48</td>\n",
              "      <td>logrotate</td>\n",
              "      <td>Nov 13 04:15:48 combo logrotate: ALERT exited ...</td>\n",
              "      <td>system_messages</td>\n",
              "    </tr>\n",
              "    <tr>\n",
              "      <th>2</th>\n",
              "      <td>Nov 13 05:24:10</td>\n",
              "      <td>sshd(pam_unix)[12575]</td>\n",
              "      <td>Nov 13 05:24:10 combo sshd(pam_unix)[12575]: c...</td>\n",
              "      <td>system_messages</td>\n",
              "    </tr>\n",
              "    <tr>\n",
              "      <th>3</th>\n",
              "      <td>Nov 13 05:24:10</td>\n",
              "      <td>sshd(pam_unix)[12575]</td>\n",
              "      <td>Nov 13 05:24:10 combo sshd(pam_unix)[12575]: a...</td>\n",
              "      <td>system_messages</td>\n",
              "    </tr>\n",
              "    <tr>\n",
              "      <th>4</th>\n",
              "      <td>Nov 13 05:24:10</td>\n",
              "      <td>sshd(pam_unix)[12577]</td>\n",
              "      <td>Nov 13 05:24:10 combo sshd(pam_unix)[12577]: c...</td>\n",
              "      <td>system_messages</td>\n",
              "    </tr>\n",
              "  </tbody>\n",
              "</table>\n",
              "</div>"
            ],
            "text/plain": [
              "          datetime              component  \\\n",
              "0  Nov 13 04:15:47          syslogd 1.4.1   \n",
              "1  Nov 13 04:15:48              logrotate   \n",
              "2  Nov 13 05:24:10  sshd(pam_unix)[12575]   \n",
              "3  Nov 13 05:24:10  sshd(pam_unix)[12575]   \n",
              "4  Nov 13 05:24:10  sshd(pam_unix)[12577]   \n",
              "\n",
              "                                             content         log_type  \n",
              "0    Nov 13 04:15:47 combo syslogd 1.4.1: restart.\\n  system_messages  \n",
              "1  Nov 13 04:15:48 combo logrotate: ALERT exited ...  system_messages  \n",
              "2  Nov 13 05:24:10 combo sshd(pam_unix)[12575]: c...  system_messages  \n",
              "3  Nov 13 05:24:10 combo sshd(pam_unix)[12575]: a...  system_messages  \n",
              "4  Nov 13 05:24:10 combo sshd(pam_unix)[12577]: c...  system_messages  "
            ]
          },
          "metadata": {},
          "output_type": "display_data"
        },
        {
          "data": {
            "text/html": [
              "<div>\n",
              "<style scoped>\n",
              "    .dataframe tbody tr th:only-of-type {\n",
              "        vertical-align: middle;\n",
              "    }\n",
              "\n",
              "    .dataframe tbody tr th {\n",
              "        vertical-align: top;\n",
              "    }\n",
              "\n",
              "    .dataframe thead th {\n",
              "        text-align: right;\n",
              "    }\n",
              "</style>\n",
              "<table border=\"1\" class=\"dataframe\">\n",
              "  <thead>\n",
              "    <tr style=\"text-align: right;\">\n",
              "      <th></th>\n",
              "      <th>datetime</th>\n",
              "      <th>content</th>\n",
              "      <th>log_type</th>\n",
              "      <th>year</th>\n",
              "      <th>month</th>\n",
              "      <th>day</th>\n",
              "      <th>hour</th>\n",
              "      <th>minute</th>\n",
              "      <th>second</th>\n",
              "    </tr>\n",
              "  </thead>\n",
              "  <tbody>\n",
              "    <tr>\n",
              "      <th>0</th>\n",
              "      <td>2017-11-13 04:15:47</td>\n",
              "      <td>syslogd nov combo syslogd restart</td>\n",
              "      <td>system_messages</td>\n",
              "      <td>2017</td>\n",
              "      <td>11</td>\n",
              "      <td>13</td>\n",
              "      <td>4</td>\n",
              "      <td>15</td>\n",
              "      <td>47</td>\n",
              "    </tr>\n",
              "    <tr>\n",
              "      <th>1</th>\n",
              "      <td>2017-11-13 04:15:48</td>\n",
              "      <td>logrotate nov combo logrotate alert exited abn...</td>\n",
              "      <td>system_messages</td>\n",
              "      <td>2017</td>\n",
              "      <td>11</td>\n",
              "      <td>13</td>\n",
              "      <td>4</td>\n",
              "      <td>15</td>\n",
              "      <td>48</td>\n",
              "    </tr>\n",
              "    <tr>\n",
              "      <th>2</th>\n",
              "      <td>2017-11-13 05:24:10</td>\n",
              "      <td>sshd pam unix 12575 nov combo sshd pam unix 12...</td>\n",
              "      <td>system_messages</td>\n",
              "      <td>2017</td>\n",
              "      <td>11</td>\n",
              "      <td>13</td>\n",
              "      <td>5</td>\n",
              "      <td>24</td>\n",
              "      <td>10</td>\n",
              "    </tr>\n",
              "    <tr>\n",
              "      <th>3</th>\n",
              "      <td>2017-11-13 05:24:10</td>\n",
              "      <td>sshd pam unix 12575 nov combo sshd pam unix 12...</td>\n",
              "      <td>system_messages</td>\n",
              "      <td>2017</td>\n",
              "      <td>11</td>\n",
              "      <td>13</td>\n",
              "      <td>5</td>\n",
              "      <td>24</td>\n",
              "      <td>10</td>\n",
              "    </tr>\n",
              "    <tr>\n",
              "      <th>4</th>\n",
              "      <td>2017-11-13 05:24:10</td>\n",
              "      <td>sshd pam unix 12577 nov combo sshd pam unix 12...</td>\n",
              "      <td>system_messages</td>\n",
              "      <td>2017</td>\n",
              "      <td>11</td>\n",
              "      <td>13</td>\n",
              "      <td>5</td>\n",
              "      <td>24</td>\n",
              "      <td>10</td>\n",
              "    </tr>\n",
              "  </tbody>\n",
              "</table>\n",
              "</div>"
            ],
            "text/plain": [
              "             datetime                                            content  \\\n",
              "0 2017-11-13 04:15:47                  syslogd nov combo syslogd restart   \n",
              "1 2017-11-13 04:15:48  logrotate nov combo logrotate alert exited abn...   \n",
              "2 2017-11-13 05:24:10  sshd pam unix 12575 nov combo sshd pam unix 12...   \n",
              "3 2017-11-13 05:24:10  sshd pam unix 12575 nov combo sshd pam unix 12...   \n",
              "4 2017-11-13 05:24:10  sshd pam unix 12577 nov combo sshd pam unix 12...   \n",
              "\n",
              "          log_type  year  month  day  hour  minute  second  \n",
              "0  system_messages  2017     11   13     4      15      47  \n",
              "1  system_messages  2017     11   13     4      15      48  \n",
              "2  system_messages  2017     11   13     5      24      10  \n",
              "3  system_messages  2017     11   13     5      24      10  \n",
              "4  system_messages  2017     11   13     5      24      10  "
            ]
          },
          "metadata": {},
          "output_type": "display_data"
        }
      ],
      "source": [
        "tgt_file = MESSAGES_FILE+'.csv'\n",
        "\n",
        "import dateutil.utils\n",
        "\n",
        "df = pd.read_csv(tgt_file)\n",
        "display(df.head())\n",
        "\n",
        "# df['datetime'] = [ i.split() for i in df['datetime'].str.replace(\":\",\" \", 1) ]\n",
        "\n",
        "df['datetime'] = [ i.split() for i in df['datetime'] ]\n",
        "df['datetime'] = [ ' '.join([i[1],i[0],'2017',i[2]]) for i in df['datetime'] ]\n",
        "# df['datetime'] = [ ' '.join([' '.join([i[2],i[0],'20'+i[1]]),':'.join([i[3],'00'])]) for i in df['datetime'] ]\n",
        "# display(df.head())\n",
        "\n",
        "df['datetime'] = pd.to_datetime(df['datetime'],dayfirst=True)\n",
        "df['year'] = df['datetime'].dt.year\n",
        "df['month'] = df['datetime'].dt.month\n",
        "df['day'] = df['datetime'].dt.day\n",
        "df['hour'] = df['datetime'].dt.hour\n",
        "df['minute'] = df['datetime'].dt.minute\n",
        "df['second'] = df['datetime'].dt.second\n",
        "df['content'] = df['component'] + ' ' + df['content']\n",
        "df.drop('component', inplace=True, axis=1)\n",
        "df = df[df['content'].notnull()]\n",
        "\n",
        "df['content'] = clean_logs(df['content'])\n",
        "display(df.head())\n",
        "\n",
        "df.to_csv(MESSAGES_FILE+'_final.csv',index=False)\n"
      ]
    },
    {
      "cell_type": "markdown",
      "metadata": {
        "id": "RFWZHwJOG7q8"
      },
      "source": [
        "## Consolidate into 1 Dataset"
      ]
    },
    {
      "cell_type": "code",
      "execution_count": 20,
      "metadata": {
        "colab": {
          "base_uri": "https://localhost:8080/",
          "height": 120
        },
        "execution": {
          "iopub.execute_input": "2024-09-07T14:35:43.225467Z",
          "iopub.status.busy": "2024-09-07T14:35:43.225114Z",
          "iopub.status.idle": "2024-09-07T14:35:45.434764Z",
          "shell.execute_reply": "2024-09-07T14:35:45.433093Z",
          "shell.execute_reply.started": "2024-09-07T14:35:43.225431Z"
        },
        "id": "ym7Jxqtyqi-Z",
        "outputId": "24647e22-3775-49ec-f371-279e6119eae0",
        "trusted": true
      },
      "outputs": [
        {
          "data": {
            "text/html": [
              "<div>\n",
              "<style scoped>\n",
              "    .dataframe tbody tr th:only-of-type {\n",
              "        vertical-align: middle;\n",
              "    }\n",
              "\n",
              "    .dataframe tbody tr th {\n",
              "        vertical-align: top;\n",
              "    }\n",
              "\n",
              "    .dataframe thead th {\n",
              "        text-align: right;\n",
              "    }\n",
              "</style>\n",
              "<table border=\"1\" class=\"dataframe\">\n",
              "  <thead>\n",
              "    <tr style=\"text-align: right;\">\n",
              "      <th></th>\n",
              "      <th>datetime</th>\n",
              "      <th>content</th>\n",
              "      <th>log_type</th>\n",
              "      <th>year</th>\n",
              "      <th>month</th>\n",
              "      <th>day</th>\n",
              "      <th>hour</th>\n",
              "      <th>minute</th>\n",
              "      <th>second</th>\n",
              "    </tr>\n",
              "  </thead>\n",
              "  <tbody>\n",
              "  </tbody>\n",
              "</table>\n",
              "</div>"
            ],
            "text/plain": [
              "Empty DataFrame\n",
              "Columns: [datetime, content, log_type, year, month, day, hour, minute, second]\n",
              "Index: []"
            ]
          },
          "metadata": {},
          "output_type": "display_data"
        },
        {
          "data": {
            "text/html": [
              "<div>\n",
              "<style scoped>\n",
              "    .dataframe tbody tr th:only-of-type {\n",
              "        vertical-align: middle;\n",
              "    }\n",
              "\n",
              "    .dataframe tbody tr th {\n",
              "        vertical-align: top;\n",
              "    }\n",
              "\n",
              "    .dataframe thead th {\n",
              "        text-align: right;\n",
              "    }\n",
              "</style>\n",
              "<table border=\"1\" class=\"dataframe\">\n",
              "  <thead>\n",
              "    <tr style=\"text-align: right;\">\n",
              "      <th></th>\n",
              "      <th>datetime</th>\n",
              "      <th>content</th>\n",
              "      <th>log_type</th>\n",
              "      <th>year</th>\n",
              "      <th>month</th>\n",
              "      <th>day</th>\n",
              "      <th>hour</th>\n",
              "      <th>minute</th>\n",
              "      <th>second</th>\n",
              "    </tr>\n",
              "  </thead>\n",
              "  <tbody>\n",
              "  </tbody>\n",
              "</table>\n",
              "</div>"
            ],
            "text/plain": [
              "Empty DataFrame\n",
              "Columns: [datetime, content, log_type, year, month, day, hour, minute, second]\n",
              "Index: []"
            ]
          },
          "metadata": {},
          "output_type": "display_data"
        },
        {
          "name": "stdout",
          "output_type": "stream",
          "text": [
            "/home/franklin/data/dat/sctp-caps-log-classifier/dataset.csv\n",
            "/home/franklin/data/dat/sctp-caps-log-classifier/dataset.csv\n"
          ]
        }
      ],
      "source": [
        "# further consolidate the column data\n",
        "\n",
        "tgt_file = HTTP_ACCESS_LOG_CSV\n",
        "df_httpd = pd.read_csv(tgt_file)\n",
        "# df_httpd.drop('ipaddress', axis=1, inplace=True)\n",
        "# display(df_httpd.head())\n",
        "# display(df_httpd.info())\n",
        "\n",
        "tgt_file = MESSAGES_CSV\n",
        "df_msg = pd.read_csv(tgt_file)\n",
        "# df_msg['content'] = df_msg['component'] + ' ' + df_msg['content']\n",
        "# df_msg.drop('component', axis=1, inplace=True)\n",
        "# df_msg.info()\n",
        "\n",
        "display(df_msg[df_msg['content'].isnull()])\n",
        "df_msg = df_msg[df_msg['content'].notnull()]\n",
        "display(df_msg[df_msg['content'].isnull()])\n",
        "\n",
        "df = pandas.concat([df_httpd,df_msg],ignore_index=True)\n",
        "# shuffle to ensure dataset is \"mixed well\"\n",
        "df = df.sample(frac=1).reset_index(drop=True)\n",
        "df['datetime'] = pd.to_datetime(df['datetime'])\n",
        "\n",
        "df.to_csv(DATA_DIR+'/'+'combined_log.csv',index=False)\n",
        "\n",
        "# if RunningInCOLAB:\n",
        "#     source = DATA_DIR+'/'+'combined_log.csv'\n",
        "#     destination = DATA_DIR+'/drive/MyDrive/sctp-capstone-ml-log-data/dataset/dataset.csv'\n",
        "#     dest = shutil.copyfile(source, destination)\n",
        "#     # !cp {DATA_DIR+'/'+'combined_log.csv'} /content/drive/MyDrive/sctp-capstone-ml-log-data/dataset/dataset.csv\n",
        "# elif RunningInKaggle:\n",
        "#     source = DATA_DIR+'/'+'combined_log.csv'\n",
        "#     destination = DATA_DIR+'/dataset.csv'\n",
        "#     dest = shutil.copyfile(source, destination)\n",
        "# else:\n",
        "#     source = DATA_DIR+'/'+'combined_log.csv'\n",
        "#     destination = DATA_DIR+'/dataset.csv'\n",
        "#     dest = shutil.copyfile(source, destination)\n",
        "\n",
        "if RunningInCOLAB: destination = DATA_DIR+'/drive/MyDrive/sctp-capstone-ml-log-data/dataset/dataset.csv'\n",
        "else: destination = DATA_DIR+'/dataset.csv'\n",
        "\n",
        "DATASET_CSV = destination\n",
        "\n",
        "source = DATA_DIR+'/'+'combined_log.csv'\n",
        "dest = shutil.copyfile(source, CWD+'/'+'dataset.csv')\n",
        "print(dest)\n",
        "\n",
        "dest = shutil.copyfile(source, DATASET_CSV)\n",
        "print(dest)\n"
      ]
    },
    {
      "cell_type": "code",
      "execution_count": 21,
      "metadata": {
        "colab": {
          "base_uri": "https://localhost:8080/",
          "height": 762
        },
        "execution": {
          "iopub.execute_input": "2024-09-07T14:35:45.437308Z",
          "iopub.status.busy": "2024-09-07T14:35:45.436756Z",
          "iopub.status.idle": "2024-09-07T14:35:45.530073Z",
          "shell.execute_reply": "2024-09-07T14:35:45.528936Z",
          "shell.execute_reply.started": "2024-09-07T14:35:45.437241Z"
        },
        "id": "TVm92aNwOAqG",
        "outputId": "80c7c075-a548-464e-9f19-c3d402d309fc",
        "trusted": true
      },
      "outputs": [
        {
          "name": "stdout",
          "output_type": "stream",
          "text": [
            "Check for rows with nulls\n",
            "datetime    0\n",
            "content     0\n",
            "log_type    0\n",
            "day         0\n",
            "month       0\n",
            "year        0\n",
            "hour        0\n",
            "minute      0\n",
            "second      0\n",
            "dtype: int64\n",
            "<class 'pandas.core.frame.DataFrame'>\n",
            "RangeIndex: 61857 entries, 0 to 61856\n",
            "Data columns (total 9 columns):\n",
            " #   Column    Non-Null Count  Dtype         \n",
            "---  ------    --------------  -----         \n",
            " 0   datetime  61857 non-null  datetime64[ns]\n",
            " 1   content   61857 non-null  object        \n",
            " 2   log_type  61857 non-null  object        \n",
            " 3   day       61857 non-null  int64         \n",
            " 4   month     61857 non-null  int64         \n",
            " 5   year      61857 non-null  int64         \n",
            " 6   hour      61857 non-null  int64         \n",
            " 7   minute    61857 non-null  int64         \n",
            " 8   second    61857 non-null  int64         \n",
            "dtypes: datetime64[ns](1), int64(6), object(2)\n",
            "memory usage: 4.2+ MB\n"
          ]
        },
        {
          "data": {
            "text/html": [
              "<div>\n",
              "<style scoped>\n",
              "    .dataframe tbody tr th:only-of-type {\n",
              "        vertical-align: middle;\n",
              "    }\n",
              "\n",
              "    .dataframe tbody tr th {\n",
              "        vertical-align: top;\n",
              "    }\n",
              "\n",
              "    .dataframe thead th {\n",
              "        text-align: right;\n",
              "    }\n",
              "</style>\n",
              "<table border=\"1\" class=\"dataframe\">\n",
              "  <thead>\n",
              "    <tr style=\"text-align: right;\">\n",
              "      <th></th>\n",
              "      <th>datetime</th>\n",
              "      <th>content</th>\n",
              "      <th>log_type</th>\n",
              "      <th>day</th>\n",
              "      <th>month</th>\n",
              "      <th>year</th>\n",
              "      <th>hour</th>\n",
              "      <th>minute</th>\n",
              "      <th>second</th>\n",
              "    </tr>\n",
              "  </thead>\n",
              "  <tbody>\n",
              "    <tr>\n",
              "      <th>40709</th>\n",
              "      <td>2006-01-28 11:56:24</td>\n",
              "      <td>142 233 jan 2006 0500 get cgi bin awstats conf...</td>\n",
              "      <td>httpd_access_log</td>\n",
              "      <td>28</td>\n",
              "      <td>1</td>\n",
              "      <td>2006</td>\n",
              "      <td>11</td>\n",
              "      <td>56</td>\n",
              "      <td>24</td>\n",
              "    </tr>\n",
              "    <tr>\n",
              "      <th>38730</th>\n",
              "      <td>2006-02-16 02:14:04</td>\n",
              "      <td>194 204 103 feb 2006 0500 get index2 php optio...</td>\n",
              "      <td>httpd_access_log</td>\n",
              "      <td>16</td>\n",
              "      <td>2</td>\n",
              "      <td>2006</td>\n",
              "      <td>2</td>\n",
              "      <td>14</td>\n",
              "      <td>4</td>\n",
              "    </tr>\n",
              "    <tr>\n",
              "      <th>23672</th>\n",
              "      <td>2006-01-15 02:35:47</td>\n",
              "      <td>210 245 188 jan 2006 0500 post drupal xmlrpc p...</td>\n",
              "      <td>httpd_access_log</td>\n",
              "      <td>15</td>\n",
              "      <td>1</td>\n",
              "      <td>2006</td>\n",
              "      <td>2</td>\n",
              "      <td>35</td>\n",
              "      <td>47</td>\n",
              "    </tr>\n",
              "    <tr>\n",
              "      <th>22263</th>\n",
              "      <td>2006-02-27 00:09:57</td>\n",
              "      <td>202 150 feb 2006 0500 get http 403 3931 mozill...</td>\n",
              "      <td>httpd_access_log</td>\n",
              "      <td>27</td>\n",
              "      <td>2</td>\n",
              "      <td>2006</td>\n",
              "      <td>0</td>\n",
              "      <td>9</td>\n",
              "      <td>57</td>\n",
              "    </tr>\n",
              "    <tr>\n",
              "      <th>60132</th>\n",
              "      <td>2005-09-22 11:00:16</td>\n",
              "      <td>201 230 241 sep 2005 0400 get http 403 3931</td>\n",
              "      <td>httpd_access_log</td>\n",
              "      <td>22</td>\n",
              "      <td>9</td>\n",
              "      <td>2005</td>\n",
              "      <td>11</td>\n",
              "      <td>0</td>\n",
              "      <td>16</td>\n",
              "    </tr>\n",
              "  </tbody>\n",
              "</table>\n",
              "</div>"
            ],
            "text/plain": [
              "                 datetime                                            content  \\\n",
              "40709 2006-01-28 11:56:24  142 233 jan 2006 0500 get cgi bin awstats conf...   \n",
              "38730 2006-02-16 02:14:04  194 204 103 feb 2006 0500 get index2 php optio...   \n",
              "23672 2006-01-15 02:35:47  210 245 188 jan 2006 0500 post drupal xmlrpc p...   \n",
              "22263 2006-02-27 00:09:57  202 150 feb 2006 0500 get http 403 3931 mozill...   \n",
              "60132 2005-09-22 11:00:16        201 230 241 sep 2005 0400 get http 403 3931   \n",
              "\n",
              "               log_type  day  month  year  hour  minute  second  \n",
              "40709  httpd_access_log   28      1  2006    11      56      24  \n",
              "38730  httpd_access_log   16      2  2006     2      14       4  \n",
              "23672  httpd_access_log   15      1  2006     2      35      47  \n",
              "22263  httpd_access_log   27      2  2006     0       9      57  \n",
              "60132  httpd_access_log   22      9  2005    11       0      16  "
            ]
          },
          "metadata": {},
          "output_type": "display_data"
        }
      ],
      "source": [
        "print(\"Check for rows with nulls\")\n",
        "print(df.isnull().sum())\n",
        "\n",
        "# display(df[df['content'].notnull()])\n",
        "# display(df[df['content'].notnull()])\n",
        "\n",
        "# display(df[df['log_type']=='httpd_access_log'].head())\n",
        "# display(df[df['log_type']=='system_messages'].head())\n",
        "df.info()\n",
        "display(df.sample(5))"
      ]
    },
    {
      "cell_type": "markdown",
      "metadata": {
        "id": "UtygwRqUqGsG"
      },
      "source": [
        "***\n",
        "# Exploratory Data Analysis"
      ]
    },
    {
      "cell_type": "markdown",
      "metadata": {
        "id": "Lty4JLv1VUuZ"
      },
      "source": [
        "## Load `dataset.csv`"
      ]
    },
    {
      "cell_type": "code",
      "execution_count": 22,
      "metadata": {
        "execution": {
          "iopub.execute_input": "2024-09-07T14:35:45.532393Z",
          "iopub.status.busy": "2024-09-07T14:35:45.531883Z",
          "iopub.status.idle": "2024-09-07T14:35:45.538498Z",
          "shell.execute_reply": "2024-09-07T14:35:45.537186Z",
          "shell.execute_reply.started": "2024-09-07T14:35:45.532338Z"
        },
        "id": "ht5CPSDy6D9m",
        "trusted": true
      },
      "outputs": [],
      "source": [
        "# !cp /content/drive/MyDrive/sctp-capstone-ml-log-data/dataset/dataset.csv /content/dataset.csv"
      ]
    },
    {
      "cell_type": "code",
      "execution_count": 23,
      "metadata": {
        "execution": {
          "iopub.execute_input": "2024-09-07T14:35:45.541322Z",
          "iopub.status.busy": "2024-09-07T14:35:45.540245Z",
          "iopub.status.idle": "2024-09-07T14:35:45.914011Z",
          "shell.execute_reply": "2024-09-07T14:35:45.912906Z",
          "shell.execute_reply.started": "2024-09-07T14:35:45.541260Z"
        },
        "id": "9jfVu2g5VFxZ",
        "trusted": true
      },
      "outputs": [],
      "source": [
        "# if RunningInCOLAB: DATASET_CSV = DATA_DIR+'/drive/MyDrive/sctp-capstone-ml-log-data/dataset/dataset.csv'\n",
        "# else: DATASET_CSV = DATA_DIR+'/dataset.csv'\n",
        "\n",
        "# Load from dataset.csv\n",
        "DATASET_CSV = DATA_DIR+'/dataset.csv'\n",
        "\n",
        "# load from the combined dataset.csv\n",
        "tgt_file = DATASET_CSV\n",
        "df = pd.read_csv(tgt_file)"
      ]
    },
    {
      "cell_type": "markdown",
      "metadata": {
        "id": "qDGGtjcfKYEF"
      },
      "source": [
        "## TODO: create vocabulary"
      ]
    },
    {
      "cell_type": "code",
      "execution_count": 24,
      "metadata": {
        "colab": {
          "base_uri": "https://localhost:8080/",
          "height": 950
        },
        "execution": {
          "iopub.execute_input": "2024-09-07T14:35:45.916018Z",
          "iopub.status.busy": "2024-09-07T14:35:45.915586Z",
          "iopub.status.idle": "2024-09-07T14:35:46.073674Z",
          "shell.execute_reply": "2024-09-07T14:35:46.072420Z",
          "shell.execute_reply.started": "2024-09-07T14:35:45.915975Z"
        },
        "id": "5YrrC6voqRDP",
        "outputId": "91389c0d-00dd-4eff-a588-10d1393a69a3",
        "trusted": true
      },
      "outputs": [
        {
          "name": "stdout",
          "output_type": "stream",
          "text": [
            "<class 'pandas.core.frame.DataFrame'>\n",
            "RangeIndex: 61857 entries, 0 to 61856\n",
            "Data columns (total 9 columns):\n",
            " #   Column    Non-Null Count  Dtype         \n",
            "---  ------    --------------  -----         \n",
            " 0   datetime  61857 non-null  datetime64[ns]\n",
            " 1   content   61857 non-null  object        \n",
            " 2   log_type  61857 non-null  object        \n",
            " 3   day       61857 non-null  int64         \n",
            " 4   month     61857 non-null  int64         \n",
            " 5   year      61857 non-null  int64         \n",
            " 6   hour      61857 non-null  int64         \n",
            " 7   minute    61857 non-null  int64         \n",
            " 8   second    61857 non-null  int64         \n",
            "dtypes: datetime64[ns](1), int64(6), object(2)\n",
            "memory usage: 4.2+ MB\n",
            "None\n",
            "             datetime                                            content  \\\n",
            "0 2006-02-21 13:43:47  109 feb 2006 0500 post xmlrpc php http 404 289...   \n",
            "1 2006-01-27 20:29:07  162 153 155 jan 2006 0500 post blogs xmlsrv xm...   \n",
            "2 2006-01-09 10:26:57  179 164 139 jan 2006 0500 post xmlrpc php http...   \n",
            "3 2006-02-12 23:01:59  200 215 feb 2006 0500 post phpgroupware xmlrpc...   \n",
            "4 2017-11-20 17:45:37  kernel nov combo kernel out memory killed proc...   \n",
            "\n",
            "           log_type  day  month  year  hour  minute  second  \n",
            "0  httpd_access_log   21      2  2006    13      43      47  \n",
            "1  httpd_access_log   27      1  2006    20      29       7  \n",
            "2  httpd_access_log    9      1  2006    10      26      57  \n",
            "3  httpd_access_log   12      2  2006    23       1      59  \n",
            "4   system_messages   20     11  2017    17      45      37  \n"
          ]
        },
        {
          "data": {
            "text/html": [
              "<div>\n",
              "<style scoped>\n",
              "    .dataframe tbody tr th:only-of-type {\n",
              "        vertical-align: middle;\n",
              "    }\n",
              "\n",
              "    .dataframe tbody tr th {\n",
              "        vertical-align: top;\n",
              "    }\n",
              "\n",
              "    .dataframe thead th {\n",
              "        text-align: right;\n",
              "    }\n",
              "</style>\n",
              "<table border=\"1\" class=\"dataframe\">\n",
              "  <thead>\n",
              "    <tr style=\"text-align: right;\">\n",
              "      <th></th>\n",
              "      <th>datetime</th>\n",
              "      <th>day</th>\n",
              "      <th>month</th>\n",
              "      <th>year</th>\n",
              "      <th>hour</th>\n",
              "      <th>minute</th>\n",
              "      <th>second</th>\n",
              "    </tr>\n",
              "  </thead>\n",
              "  <tbody>\n",
              "    <tr>\n",
              "      <th>count</th>\n",
              "      <td>61857</td>\n",
              "      <td>61857.000000</td>\n",
              "      <td>61857.000000</td>\n",
              "      <td>61857.000000</td>\n",
              "      <td>61857.000000</td>\n",
              "      <td>61857.000000</td>\n",
              "      <td>61857.000000</td>\n",
              "    </tr>\n",
              "    <tr>\n",
              "      <th>mean</th>\n",
              "      <td>2010-10-17 13:32:12.423476736</td>\n",
              "      <td>16.705967</td>\n",
              "      <td>6.402105</td>\n",
              "      <td>2010.298867</td>\n",
              "      <td>10.502158</td>\n",
              "      <td>28.398645</td>\n",
              "      <td>29.988829</td>\n",
              "    </tr>\n",
              "    <tr>\n",
              "      <th>min</th>\n",
              "      <td>2005-06-09 07:11:21</td>\n",
              "      <td>1.000000</td>\n",
              "      <td>1.000000</td>\n",
              "      <td>2005.000000</td>\n",
              "      <td>0.000000</td>\n",
              "      <td>0.000000</td>\n",
              "      <td>0.000000</td>\n",
              "    </tr>\n",
              "    <tr>\n",
              "      <th>10%</th>\n",
              "      <td>2005-09-04 18:28:13</td>\n",
              "      <td>5.000000</td>\n",
              "      <td>1.000000</td>\n",
              "      <td>2005.000000</td>\n",
              "      <td>2.000000</td>\n",
              "      <td>5.000000</td>\n",
              "      <td>6.000000</td>\n",
              "    </tr>\n",
              "    <tr>\n",
              "      <th>20%</th>\n",
              "      <td>2005-11-19 19:18:27</td>\n",
              "      <td>9.000000</td>\n",
              "      <td>1.000000</td>\n",
              "      <td>2005.000000</td>\n",
              "      <td>4.000000</td>\n",
              "      <td>10.000000</td>\n",
              "      <td>12.000000</td>\n",
              "    </tr>\n",
              "    <tr>\n",
              "      <th>30%</th>\n",
              "      <td>2006-01-14 12:24:01</td>\n",
              "      <td>11.000000</td>\n",
              "      <td>2.000000</td>\n",
              "      <td>2006.000000</td>\n",
              "      <td>5.000000</td>\n",
              "      <td>17.000000</td>\n",
              "      <td>18.000000</td>\n",
              "    </tr>\n",
              "    <tr>\n",
              "      <th>50%</th>\n",
              "      <td>2006-02-15 16:51:54</td>\n",
              "      <td>17.000000</td>\n",
              "      <td>7.000000</td>\n",
              "      <td>2006.000000</td>\n",
              "      <td>10.000000</td>\n",
              "      <td>29.000000</td>\n",
              "      <td>30.000000</td>\n",
              "    </tr>\n",
              "    <tr>\n",
              "      <th>70%</th>\n",
              "      <td>2017-08-02 07:40:42</td>\n",
              "      <td>22.000000</td>\n",
              "      <td>11.000000</td>\n",
              "      <td>2017.000000</td>\n",
              "      <td>15.000000</td>\n",
              "      <td>40.000000</td>\n",
              "      <td>42.000000</td>\n",
              "    </tr>\n",
              "    <tr>\n",
              "      <th>90%</th>\n",
              "      <td>2017-11-28 23:35:19.200000</td>\n",
              "      <td>28.000000</td>\n",
              "      <td>11.000000</td>\n",
              "      <td>2017.000000</td>\n",
              "      <td>20.000000</td>\n",
              "      <td>52.000000</td>\n",
              "      <td>53.000000</td>\n",
              "    </tr>\n",
              "    <tr>\n",
              "      <th>max</th>\n",
              "      <td>2017-12-31 04:07:34</td>\n",
              "      <td>31.000000</td>\n",
              "      <td>12.000000</td>\n",
              "      <td>2017.000000</td>\n",
              "      <td>23.000000</td>\n",
              "      <td>59.000000</td>\n",
              "      <td>59.000000</td>\n",
              "    </tr>\n",
              "    <tr>\n",
              "      <th>std</th>\n",
              "      <td>NaN</td>\n",
              "      <td>8.074024</td>\n",
              "      <td>4.354033</td>\n",
              "      <td>5.633606</td>\n",
              "      <td>6.754398</td>\n",
              "      <td>16.923855</td>\n",
              "      <td>17.191258</td>\n",
              "    </tr>\n",
              "  </tbody>\n",
              "</table>\n",
              "</div>"
            ],
            "text/plain": [
              "                            datetime           day         month  \\\n",
              "count                          61857  61857.000000  61857.000000   \n",
              "mean   2010-10-17 13:32:12.423476736     16.705967      6.402105   \n",
              "min              2005-06-09 07:11:21      1.000000      1.000000   \n",
              "10%              2005-09-04 18:28:13      5.000000      1.000000   \n",
              "20%              2005-11-19 19:18:27      9.000000      1.000000   \n",
              "30%              2006-01-14 12:24:01     11.000000      2.000000   \n",
              "50%              2006-02-15 16:51:54     17.000000      7.000000   \n",
              "70%              2017-08-02 07:40:42     22.000000     11.000000   \n",
              "90%       2017-11-28 23:35:19.200000     28.000000     11.000000   \n",
              "max              2017-12-31 04:07:34     31.000000     12.000000   \n",
              "std                              NaN      8.074024      4.354033   \n",
              "\n",
              "               year          hour        minute        second  \n",
              "count  61857.000000  61857.000000  61857.000000  61857.000000  \n",
              "mean    2010.298867     10.502158     28.398645     29.988829  \n",
              "min     2005.000000      0.000000      0.000000      0.000000  \n",
              "10%     2005.000000      2.000000      5.000000      6.000000  \n",
              "20%     2005.000000      4.000000     10.000000     12.000000  \n",
              "30%     2006.000000      5.000000     17.000000     18.000000  \n",
              "50%     2006.000000     10.000000     29.000000     30.000000  \n",
              "70%     2017.000000     15.000000     40.000000     42.000000  \n",
              "90%     2017.000000     20.000000     52.000000     53.000000  \n",
              "max     2017.000000     23.000000     59.000000     59.000000  \n",
              "std        5.633606      6.754398     16.923855     17.191258  "
            ]
          },
          "metadata": {},
          "output_type": "display_data"
        }
      ],
      "source": [
        "# word length of 'content' column\n",
        "# df['log_length'] = df['content'].apply(lambda x: len(str(x).split()))\n",
        "df['datetime'] = pd.to_datetime(df['datetime'],yearfirst=True)\n",
        "\n",
        "print(df.info())\n",
        "print(df.head())\n",
        "display(df.describe(percentiles=[0.1, 0.2, 0.3, 0.5, 0.7, 0.9]))\n",
        "\n"
      ]
    },
    {
      "cell_type": "code",
      "execution_count": 25,
      "metadata": {
        "colab": {
          "base_uri": "https://localhost:8080/",
          "height": 610
        },
        "execution": {
          "iopub.execute_input": "2024-09-07T14:35:46.076027Z",
          "iopub.status.busy": "2024-09-07T14:35:46.075505Z",
          "iopub.status.idle": "2024-09-07T14:35:49.172746Z",
          "shell.execute_reply": "2024-09-07T14:35:49.171412Z",
          "shell.execute_reply.started": "2024-09-07T14:35:46.075969Z"
        },
        "id": "Uo3O1mGQz_iL",
        "outputId": "34a1a356-2292-4bc1-c941-1d7c74616922",
        "trusted": true
      },
      "outputs": [
        {
          "name": "stdout",
          "output_type": "stream",
          "text": [
            "Length of top 20 longest log entry:\n",
            "[8159, 7301, 7300, 7299, 7299, 7085, 6956, 6955, 6954, 6378, 6226, 6226, 6226, 6226, 6226, 6226, 6226, 6226, 6226, 6226]\n",
            "Top 20 frequency:\n",
            "[11667, 5699, 5600, 5528, 5314, 3368, 3186, 2400, 1972, 1921, 1035, 1024, 1020, 996, 901, 884, 791, 778, 685, 650]\n"
          ]
        },
        {
          "data": {
            "image/png": "[encoded data removed]",
            "text/plain": [
              "<Figure size 1200x600 with 1 Axes>"
            ]
          },
          "metadata": {},
          "output_type": "display_data"
        }
      ],
      "source": [
        "import seaborn as sns\n",
        "\n",
        "# EDA - word count\n",
        "\n",
        "def eda_word_count(p_df: pandas.DataFrame=None,\n",
        "                   p_col_content:str='content',\n",
        "                   p_col_hue:str='log_type') -> None:\n",
        "    df_content = p_df[p_col_content]\n",
        "    p_df['log_length'] = df_content.apply(lambda x: len(str(x).split()))\n",
        "\n",
        "    print(f\"Length of top 20 longest log entry:\\n{sorted(df['log_length'], reverse=True)[:20]}\")\n",
        "\n",
        "    common_occurrence = Counter(p_df['log_length'])\n",
        "    print(f\"Top 20 frequency:\\n{sorted(list(common_occurrence.values()), reverse=True)[:20]}\")\n",
        "\n",
        "    fig, ax = plt.subplots(1,1, figsize=(12, 6))\n",
        "    fig.suptitle('Log Entry Length Distribution (log scale)')\n",
        "\n",
        "    # sns.set_theme(style=\"darkgrid\")\n",
        "    sns.set_theme(style='ticks')\n",
        "    # set log scale for better visibility to distribution\n",
        "    # sns.histplot(data=p_df, x='log_length', hue='log_type',bins=50)\n",
        "    sns.histplot(data=p_df, x='log_length', hue='log_type',bins=50, log_scale=True, kde=True )\n",
        "\n",
        "    x_limit = (int(sorted(df['log_length'], reverse=True)[0]/1000)*1000)+1000\n",
        "    y_limit = (int(sorted(list(common_occurrence.values()), reverse=True)[0]/1000)*1000)+1000*4\n",
        "\n",
        "    # xticks = np.arange(0,x_limit,1000)\n",
        "    # xlabels = [f'{x // 1000}k' for x in xticks]\n",
        "    # ax.set_xticks(xticks)\n",
        "    # ax.set_xticklabels(xlabels)\n",
        "\n",
        "    yticks = np.arange(0,y_limit,1000*2)\n",
        "    ylabels = [f'{x // 1000}k' for x in yticks]\n",
        "    ax.set_yticks(yticks)\n",
        "    ax.set_yticklabels(ylabels)\n",
        "    ax.set_ylabel('Count (Frequency)')\n",
        "\n",
        "    ax.set_xlabel('Log Length')\n",
        "    fig.tight_layout()\n",
        "\n",
        "eda_word_count(df, p_col_content='content', p_col_hue='log_type')\n"
      ]
    },
    {
      "cell_type": "code",
      "execution_count": 26,
      "metadata": {
        "colab": {
          "base_uri": "https://localhost:8080/",
          "height": 610
        },
        "execution": {
          "iopub.execute_input": "2024-09-07T14:35:49.174937Z",
          "iopub.status.busy": "2024-09-07T14:35:49.174459Z",
          "iopub.status.idle": "2024-09-07T14:35:51.655559Z",
          "shell.execute_reply": "2024-09-07T14:35:51.654222Z",
          "shell.execute_reply.started": "2024-09-07T14:35:49.174891Z"
        },
        "id": "A6HCauod9X_y",
        "outputId": "da9b24f1-dc2f-4211-914f-7316d3218fab",
        "trusted": true
      },
      "outputs": [
        {
          "name": "stdout",
          "output_type": "stream",
          "text": [
            "Top 25 word count:\n",
            "[196657, 39512, 36550, 30752, 30649, 30645, 30515, 28709, 28061, 27562, 25529, 22039, 21713, 21596, 19133, 18964, 17699, 16646, 16144, 14177, 12266, 11963, 11482, 10689, 10501]\n",
            "Next top 25 word count:\n",
            "[10491, 10452, 10404, 10052, 9113, 9043, 8249, 6949, 6838, 6624, 6073, 5375, 5375, 5254, 5213, 5180, 5053, 4899, 4873, 4614, 4302, 4232, 4092, 4092, 4092]\n"
          ]
        },
        {
          "data": {
            "image/png": "[encoded data removed]",
            "text/plain": [
              "<Figure size 1200x600 with 2 Axes>"
            ]
          },
          "metadata": {},
          "output_type": "display_data"
        }
      ],
      "source": [
        "# EDA - word frequecy\n",
        "\n",
        "def eda_word_freq(p_df: pandas.Series=None)->None:\n",
        "    df_content = p_df\n",
        "    # Extracting and visualizing most common log entries (terms)\n",
        "    from collections import Counter\n",
        "    all_words = ' '.join(df_content).split()\n",
        "    # print(f\"all_words >>> {all_words}\")\n",
        "    common_words = Counter(all_words).most_common(50)\n",
        "\n",
        "    # style must be one of white, dark, whitegrid, darkgrid, ticks\n",
        "    sns.set_theme(palette='pastel')\n",
        "\n",
        "    fig, ax = plt.subplots(1,2, figsize=(12, 6))\n",
        "    fig.suptitle('Most Common Words in Log Entries')\n",
        "    # Bar plot for most common words\n",
        "\n",
        "    t25 = sorted([ list(i)[1] for i in common_words[:25] ], reverse=True)\n",
        "    print(f\"Top 25 word count:\\n{t25}\")\n",
        "    x_limit = ((t25[0]/10000)*10000)+10000\n",
        "\n",
        "    common_words_df = pd.DataFrame(common_words[:25], columns=['Word', 'Frequency'])\n",
        "    sns.barplot(x='Frequency', y='Word', data=common_words_df, ax=plt.subplot(1,2,1))\n",
        "    # plt.title('Plot (1/2)')\n",
        "    ax[0].set_title('First 25 Common Words')\n",
        "    div = 50000\n",
        "    xticks = np.arange(0,x_limit,div)\n",
        "    xlabels = [f'{x // 1000}k' for x in xticks]\n",
        "    ax[0].set_xticks(xticks)\n",
        "    ax[0].set_xticklabels(xlabels)\n",
        "    # ax[0].set_ylabel('Word')\n",
        "\n",
        "    t25 = sorted([ list(i)[1] for i in common_words[25:] ], reverse=True)\n",
        "    print(f\"Next top 25 word count:\\n{t25}\")\n",
        "    x_limit = ((t25[0]/1000)*1000)+1000\n",
        "\n",
        "    common_words_df = pd.DataFrame(common_words[26:], columns=['Word', 'Frequency'])\n",
        "    sns.barplot(x='Frequency', y='Word', data=common_words_df, ax=plt.subplot(1,2,2))\n",
        "    # plt.title('Plot (2/2)')\n",
        "    ax[1].set_title('Next 25 Common Words')\n",
        "    div = 2000\n",
        "    xticks = np.arange(0,x_limit,div)\n",
        "    xlabels = [f'{x // 1000}k' for x in xticks]\n",
        "    ax[1].set_xticks(xticks)\n",
        "    ax[1].set_xticklabels(xlabels)\n",
        "\n",
        "    fig.tight_layout()\n",
        "\n",
        "eda_word_freq(df['content'])"
      ]
    },
    {
      "cell_type": "markdown",
      "metadata": {
        "id": "bQGzQPbAqzIL"
      },
      "source": [
        "# Feature Extraction"
      ]
    },
    {
      "cell_type": "code",
      "execution_count": 27,
      "metadata": {
        "colab": {
          "base_uri": "https://localhost:8080/",
          "height": 460
        },
        "id": "gesBDZuFKVI8",
        "outputId": "a1c44001-932f-4e9e-ba9c-d6acc2fff59a"
      },
      "outputs": [
        {
          "data": {
            "text/plain": [
              "count    61857.000000\n",
              "mean        20.919556\n",
              "std        158.597779\n",
              "min          2.000000\n",
              "10%         10.000000\n",
              "20%         10.000000\n",
              "30%         12.000000\n",
              "50%         15.000000\n",
              "70%         17.000000\n",
              "80%         19.000000\n",
              "90%         33.000000\n",
              "max       8159.000000\n",
              "Name: log_length, dtype: float64"
            ]
          },
          "metadata": {},
          "output_type": "display_data"
        }
      ],
      "source": [
        "display(df['log_length'].describe(percentiles=[0.1, 0.2, 0.3, 0.5, 0.7, 0.8, 0.9]))"
      ]
    },
    {
      "cell_type": "code",
      "execution_count": 28,
      "metadata": {
        "execution": {
          "iopub.execute_input": "2024-09-07T14:35:51.657532Z",
          "iopub.status.busy": "2024-09-07T14:35:51.657153Z",
          "iopub.status.idle": "2024-09-07T14:35:55.863596Z",
          "shell.execute_reply": "2024-09-07T14:35:55.862407Z",
          "shell.execute_reply.started": "2024-09-07T14:35:51.657494Z"
        },
        "id": "KhwZTqTQq7rJ",
        "trusted": true
      },
      "outputs": [],
      "source": [
        "def word_cnt_sd(p_strings: pandas.Series=None)->int:\n",
        "    content_length = [ len(str(i).split()) for i in p_strings ]\n",
        "    content_length\n",
        "    sd = int(np.std(content_length))+1\n",
        "    return sd\n",
        "\n",
        "# def feature_extraction(p_df: pandas.DataFrame=None, p_col_content: str='content', p_col_label: str='log_type'):\n",
        "p_df = df\n",
        "p_col_content = 'content'\n",
        "p_col_label = 'log_type'\n",
        "\n",
        "word_cnt_sd = word_cnt_sd(p_df[p_col_content])\n",
        "\n",
        "# tfidf = TfidfVectorizer(max_features=5000)\n",
        "# tfidf = TfidfVectorizer()\n",
        "tfidf = TfidfVectorizer(max_features=word_cnt_sd)\n",
        "\n",
        "X = tfidf.fit_transform(p_df[p_col_content]).toarray()\n",
        "\n",
        "# column label for log data\n",
        "le = LabelEncoder()\n",
        "y = le.fit_transform(df[p_col_label])"
      ]
    },
    {
      "cell_type": "code",
      "execution_count": 29,
      "metadata": {
        "colab": {
          "base_uri": "https://localhost:8080/"
        },
        "execution": {
          "iopub.execute_input": "2024-09-07T14:35:55.865637Z",
          "iopub.status.busy": "2024-09-07T14:35:55.865138Z",
          "iopub.status.idle": "2024-09-07T14:35:55.872776Z",
          "shell.execute_reply": "2024-09-07T14:35:55.871269Z",
          "shell.execute_reply.started": "2024-09-07T14:35:55.865585Z"
        },
        "id": "s8QwgRuuSNhy",
        "outputId": "da4d541a-3fe3-4b1f-bee0-02f8b6ee1904",
        "trusted": true
      },
      "outputs": [
        {
          "name": "stdout",
          "output_type": "stream",
          "text": [
            "159\n"
          ]
        }
      ],
      "source": [
        "# tfidf.vocabulary_\n",
        "print(len(tfidf.get_feature_names_out()))"
      ]
    },
    {
      "cell_type": "code",
      "execution_count": 30,
      "metadata": {
        "colab": {
          "base_uri": "https://localhost:8080/"
        },
        "execution": {
          "iopub.execute_input": "2024-09-07T14:35:55.875086Z",
          "iopub.status.busy": "2024-09-07T14:35:55.874567Z",
          "iopub.status.idle": "2024-09-07T14:35:55.888945Z",
          "shell.execute_reply": "2024-09-07T14:35:55.887571Z",
          "shell.execute_reply.started": "2024-09-07T14:35:55.875030Z"
        },
        "id": "c7QGrNFD29iE",
        "outputId": "2383c540-67c9-4602-884d-b1e8a230f4ac",
        "trusted": true
      },
      "outputs": [
        {
          "data": {
            "text/plain": [
              "['httpd_access_log', 'system_messages']"
            ]
          },
          "execution_count": 30,
          "metadata": {},
          "output_type": "execute_result"
        }
      ],
      "source": [
        "LOG_TYPES = list(le.classes_)\n",
        "LOG_TYPES"
      ]
    },
    {
      "cell_type": "code",
      "execution_count": 31,
      "metadata": {
        "execution": {
          "iopub.execute_input": "2024-09-07T14:35:55.891747Z",
          "iopub.status.busy": "2024-09-07T14:35:55.891327Z",
          "iopub.status.idle": "2024-09-07T14:35:55.909062Z",
          "shell.execute_reply": "2024-09-07T14:35:55.907764Z",
          "shell.execute_reply.started": "2024-09-07T14:35:55.891703Z"
        },
        "id": "WfGYOMlhzjKC",
        "trusted": true
      },
      "outputs": [],
      "source": [
        "save_obj(p_obj=tfidf, p_filename=TFIDF_FILE)"
      ]
    },
    {
      "cell_type": "markdown",
      "metadata": {
        "id": "dbADb8nxrCIK"
      },
      "source": [
        "# Model Training, Testing & Validation"
      ]
    },
    {
      "cell_type": "markdown",
      "metadata": {
        "id": "g9XZLBIVKZFQ"
      },
      "source": [
        "**Key hyperparameters** that can be further tuned or included to improve model performance:\n",
        "- `clf__n_estimators` (number of trees in the forest)\n",
        "- `clf__max_depth` (maximum depth of the individual trees; limits the number of nodes in the tree)\n",
        "- `clf__min_samples_leaf` (minimum samples required to be at a leaf node)\n",
        "- `max_features` (number of features to consider at each split)\n",
        "\n",
        "\n",
        "\n",
        "In a Random Forest, each decision tree is trained on a random subset of the features. The `max_features` parameter controls how many features are considered when splitting a node in each tree. This randomness helps to ensure that the trees are not too similar to each other, which is a key aspect of the ensemble method."
      ]
    },
    {
      "cell_type": "code",
      "execution_count": 32,
      "metadata": {
        "execution": {
          "iopub.execute_input": "2024-09-07T14:35:55.911171Z",
          "iopub.status.busy": "2024-09-07T14:35:55.910736Z",
          "iopub.status.idle": "2024-09-07T14:35:56.009857Z",
          "shell.execute_reply": "2024-09-07T14:35:56.008877Z",
          "shell.execute_reply.started": "2024-09-07T14:35:55.911128Z"
        },
        "id": "MS1e4EUgow9G",
        "trusted": true
      },
      "outputs": [],
      "source": [
        "# Train-test split\n",
        "X_train, X_test, y_train, y_test = train_test_split(X, y, test_size=0.2, random_state=42)\n"
      ]
    },
    {
      "cell_type": "code",
      "execution_count": 33,
      "metadata": {
        "colab": {
          "base_uri": "https://localhost:8080/"
        },
        "id": "9PjmxemX3tN8",
        "outputId": "20b7290d-6683-4c1a-da58-79aaf265c2ee"
      },
      "outputs": [
        {
          "name": "stdout",
          "output_type": "stream",
          "text": [
            "(49485, 159)\n",
            "(49485,)\n",
            "(12372, 159)\n",
            "(12372,)\n"
          ]
        }
      ],
      "source": [
        "print(X_train.shape)\n",
        "print(y_train.shape)\n",
        "print(X_test.shape)\n",
        "print(y_test.shape)"
      ]
    },
    {
      "cell_type": "code",
      "execution_count": 34,
      "metadata": {
        "colab": {
          "base_uri": "https://localhost:8080/"
        },
        "execution": {
          "iopub.execute_input": "2024-09-07T14:35:56.011861Z",
          "iopub.status.busy": "2024-09-07T14:35:56.011363Z",
          "iopub.status.idle": "2024-09-07T14:42:01.904930Z",
          "shell.execute_reply": "2024-09-07T14:42:01.903413Z",
          "shell.execute_reply.started": "2024-09-07T14:35:56.011788Z"
        },
        "id": "rEpWd08YrHYv",
        "outputId": "fafb5bfd-3575-45ac-bd28-6b29fa56cd4a",
        "trusted": true
      },
      "outputs": [
        {
          "name": "stdout",
          "output_type": "stream",
          "text": [
            "Fitting 5 folds for each of 18 candidates, totalling 90 fits\n",
            "[CV 5/5] END clf__max_depth=10, clf__min_samples_split=2, clf__n_estimators=100;, score=1.000 total time=  10.4s\n",
            "[CV 2/5] END clf__max_depth=10, clf__min_samples_split=2, clf__n_estimators=100;, score=1.000 total time=  10.5s\n",
            "[CV 4/5] END clf__max_depth=10, clf__min_samples_split=2, clf__n_estimators=100;, score=1.000 total time=  10.4s\n",
            "[CV 4/5] END clf__max_depth=10, clf__min_samples_split=5, clf__n_estimators=100;, score=1.000 total time=  10.5s\n",
            "[CV 2/5] END clf__max_depth=10, clf__min_samples_split=5, clf__n_estimators=100;, score=1.000 total time=  11.2s\n",
            "[CV 3/5] END clf__max_depth=10, clf__min_samples_split=5, clf__n_estimators=100;, score=1.000 total time=  11.8s\n",
            "[CV 3/5] END clf__max_depth=10, clf__min_samples_split=2, clf__n_estimators=100;, score=1.000 total time=  11.9s\n",
            "[CV 5/5] END clf__max_depth=10, clf__min_samples_split=5, clf__n_estimators=100;, score=1.000 total time=  12.2s\n",
            "[CV 1/5] END clf__max_depth=10, clf__min_samples_split=2, clf__n_estimators=100;, score=1.000 total time=  12.4s\n",
            "[CV 1/5] END clf__max_depth=10, clf__min_samples_split=5, clf__n_estimators=100;, score=1.000 total time=  13.9s\n",
            "[CV 4/5] END clf__max_depth=10, clf__min_samples_split=2, clf__n_estimators=200;, score=1.000 total time=  23.2s\n",
            "[CV 1/5] END clf__max_depth=10, clf__min_samples_split=2, clf__n_estimators=200;, score=1.000 total time=  23.7s\n",
            "[CV 1/5] END clf__max_depth=10, clf__min_samples_split=10, clf__n_estimators=100;, score=1.000 total time=  12.2s\n",
            "[CV 3/5] END clf__max_depth=10, clf__min_samples_split=2, clf__n_estimators=200;, score=1.000 total time=  23.8s\n",
            "[CV 5/5] END clf__max_depth=10, clf__min_samples_split=2, clf__n_estimators=200;, score=1.000 total time=  23.7s\n",
            "[CV 2/5] END clf__max_depth=10, clf__min_samples_split=10, clf__n_estimators=100;, score=1.000 total time=  12.5s\n",
            "[CV 2/5] END clf__max_depth=10, clf__min_samples_split=2, clf__n_estimators=200;, score=1.000 total time=  24.7s\n",
            "[CV 5/5] END clf__max_depth=10, clf__min_samples_split=10, clf__n_estimators=100;, score=1.000 total time=  12.5s\n",
            "[CV 4/5] END clf__max_depth=10, clf__min_samples_split=10, clf__n_estimators=100;, score=1.000 total time=  13.6s\n",
            "[CV 1/5] END clf__max_depth=10, clf__min_samples_split=5, clf__n_estimators=200;, score=1.000 total time=  26.0s\n",
            "[CV 3/5] END clf__max_depth=10, clf__min_samples_split=10, clf__n_estimators=100;, score=1.000 total time=  14.4s\n",
            "[CV 5/5] END clf__max_depth=10, clf__min_samples_split=5, clf__n_estimators=200;, score=1.000 total time=  26.4s\n",
            "[CV 1/5] END clf__max_depth=20, clf__min_samples_split=2, clf__n_estimators=100;, score=1.000 total time=  13.0s\n",
            "[CV 2/5] END clf__max_depth=10, clf__min_samples_split=5, clf__n_estimators=200;, score=1.000 total time=  27.2s\n",
            "[CV 4/5] END clf__max_depth=10, clf__min_samples_split=5, clf__n_estimators=200;, score=1.000 total time=  26.9s\n",
            "[CV 4/5] END clf__max_depth=20, clf__min_samples_split=2, clf__n_estimators=100;, score=1.000 total time=  12.5s\n",
            "[CV 3/5] END clf__max_depth=10, clf__min_samples_split=5, clf__n_estimators=200;, score=1.000 total time=  27.3s\n",
            "[CV 2/5] END clf__max_depth=20, clf__min_samples_split=2, clf__n_estimators=100;, score=1.000 total time=  13.4s\n",
            "[CV 3/5] END clf__max_depth=20, clf__min_samples_split=2, clf__n_estimators=100;, score=1.000 total time=  13.3s\n",
            "[CV 5/5] END clf__max_depth=20, clf__min_samples_split=2, clf__n_estimators=100;, score=1.000 total time=  12.9s\n",
            "[CV 1/5] END clf__max_depth=10, clf__min_samples_split=10, clf__n_estimators=200;, score=1.000 total time=  25.7s\n",
            "[CV 2/5] END clf__max_depth=10, clf__min_samples_split=10, clf__n_estimators=200;, score=1.000 total time=  24.7s\n",
            "[CV 3/5] END clf__max_depth=10, clf__min_samples_split=10, clf__n_estimators=200;, score=1.000 total time=  25.3s\n",
            "[CV 4/5] END clf__max_depth=10, clf__min_samples_split=10, clf__n_estimators=200;, score=1.000 total time=  25.5s\n",
            "[CV 5/5] END clf__max_depth=10, clf__min_samples_split=10, clf__n_estimators=200;, score=1.000 total time=  25.8s\n",
            "[CV 5/5] END clf__max_depth=20, clf__min_samples_split=5, clf__n_estimators=100;, score=1.000 total time=  12.0s\n",
            "[CV 2/5] END clf__max_depth=20, clf__min_samples_split=5, clf__n_estimators=100;, score=1.000 total time=  13.5s\n",
            "[CV 1/5] END clf__max_depth=20, clf__min_samples_split=5, clf__n_estimators=100;, score=1.000 total time=  13.7s\n",
            "[CV 3/5] END clf__max_depth=20, clf__min_samples_split=5, clf__n_estimators=100;, score=1.000 total time=  13.6s\n",
            "[CV 4/5] END clf__max_depth=20, clf__min_samples_split=5, clf__n_estimators=100;, score=1.000 total time=  13.8s\n",
            "[CV 2/5] END clf__max_depth=20, clf__min_samples_split=2, clf__n_estimators=200;, score=1.000 total time=  26.0s\n",
            "[CV 1/5] END clf__max_depth=20, clf__min_samples_split=2, clf__n_estimators=200;, score=1.000 total time=  26.2s\n",
            "[CV 3/5] END clf__max_depth=20, clf__min_samples_split=2, clf__n_estimators=200;, score=1.000 total time=  24.7s\n",
            "[CV 1/5] END clf__max_depth=20, clf__min_samples_split=10, clf__n_estimators=100;, score=1.000 total time=  12.8s\n",
            "[CV 5/5] END clf__max_depth=20, clf__min_samples_split=10, clf__n_estimators=100;, score=1.000 total time=  11.4s\n",
            "[CV 2/5] END clf__max_depth=20, clf__min_samples_split=10, clf__n_estimators=100;, score=1.000 total time=  12.7s\n",
            "[CV 3/5] END clf__max_depth=20, clf__min_samples_split=10, clf__n_estimators=100;, score=1.000 total time=  11.8s\n",
            "[CV 5/5] END clf__max_depth=20, clf__min_samples_split=2, clf__n_estimators=200;, score=1.000 total time=  25.7s\n",
            "[CV 4/5] END clf__max_depth=20, clf__min_samples_split=10, clf__n_estimators=100;, score=1.000 total time=  12.9s\n",
            "[CV 1/5] END clf__max_depth=20, clf__min_samples_split=5, clf__n_estimators=200;, score=1.000 total time=  25.6s\n",
            "[CV 2/5] END clf__max_depth=20, clf__min_samples_split=5, clf__n_estimators=200;, score=1.000 total time=  25.8s\n",
            "[CV 4/5] END clf__max_depth=20, clf__min_samples_split=2, clf__n_estimators=200;, score=1.000 total time=  28.3s\n",
            "[CV 1/5] END clf__max_depth=None, clf__min_samples_split=2, clf__n_estimators=100;, score=1.000 total time=  13.4s\n",
            "[CV 5/5] END clf__max_depth=20, clf__min_samples_split=5, clf__n_estimators=200;, score=1.000 total time=  27.1s\n",
            "[CV 3/5] END clf__max_depth=20, clf__min_samples_split=5, clf__n_estimators=200;, score=1.000 total time=  28.9s\n",
            "[CV 4/5] END clf__max_depth=None, clf__min_samples_split=2, clf__n_estimators=100;, score=1.000 total time=  13.8s\n",
            "[CV 3/5] END clf__max_depth=None, clf__min_samples_split=2, clf__n_estimators=100;, score=1.000 total time=  14.1s\n",
            "[CV 4/5] END clf__max_depth=20, clf__min_samples_split=5, clf__n_estimators=200;, score=1.000 total time=  28.2s\n",
            "[CV 2/5] END clf__max_depth=None, clf__min_samples_split=2, clf__n_estimators=100;, score=1.000 total time=  15.2s\n",
            "[CV 5/5] END clf__max_depth=None, clf__min_samples_split=2, clf__n_estimators=100;, score=1.000 total time=  13.9s\n",
            "[CV 1/5] END clf__max_depth=20, clf__min_samples_split=10, clf__n_estimators=200;, score=1.000 total time=  26.5s\n",
            "[CV 3/5] END clf__max_depth=20, clf__min_samples_split=10, clf__n_estimators=200;, score=1.000 total time=  26.0s\n",
            "[CV 2/5] END clf__max_depth=20, clf__min_samples_split=10, clf__n_estimators=200;, score=1.000 total time=  27.8s\n",
            "[CV 5/5] END clf__max_depth=20, clf__min_samples_split=10, clf__n_estimators=200;, score=1.000 total time=  24.2s\n",
            "[CV 4/5] END clf__max_depth=20, clf__min_samples_split=10, clf__n_estimators=200;, score=1.000 total time=  26.5s\n",
            "[CV 4/5] END clf__max_depth=None, clf__min_samples_split=5, clf__n_estimators=100;, score=1.000 total time=  11.9s\n",
            "[CV 3/5] END clf__max_depth=None, clf__min_samples_split=5, clf__n_estimators=100;, score=1.000 total time=  12.4s\n",
            "[CV 2/5] END clf__max_depth=None, clf__min_samples_split=5, clf__n_estimators=100;, score=1.000 total time=  12.8s\n",
            "[CV 1/5] END clf__max_depth=None, clf__min_samples_split=5, clf__n_estimators=100;, score=1.000 total time=  13.5s\n",
            "[CV 5/5] END clf__max_depth=None, clf__min_samples_split=5, clf__n_estimators=100;, score=1.000 total time=  12.8s\n",
            "[CV 3/5] END clf__max_depth=None, clf__min_samples_split=2, clf__n_estimators=200;, score=1.000 total time=  26.3s\n",
            "[CV 1/5] END clf__max_depth=None, clf__min_samples_split=2, clf__n_estimators=200;, score=1.000 total time=  27.2s\n",
            "[CV 2/5] END clf__max_depth=None, clf__min_samples_split=2, clf__n_estimators=200;, score=1.000 total time=  27.7s\n",
            "[CV 1/5] END clf__max_depth=None, clf__min_samples_split=10, clf__n_estimators=100;, score=1.000 total time=  11.8s\n",
            "[CV 3/5] END clf__max_depth=None, clf__min_samples_split=10, clf__n_estimators=100;, score=1.000 total time=  11.7s\n",
            "[CV 5/5] END clf__max_depth=None, clf__min_samples_split=2, clf__n_estimators=200;, score=1.000 total time=  24.9s\n",
            "[CV 2/5] END clf__max_depth=None, clf__min_samples_split=10, clf__n_estimators=100;, score=1.000 total time=  12.0s\n",
            "[CV 4/5] END clf__max_depth=None, clf__min_samples_split=2, clf__n_estimators=200;, score=1.000 total time=  25.1s\n",
            "[CV 5/5] END clf__max_depth=None, clf__min_samples_split=10, clf__n_estimators=100;, score=1.000 total time=  11.4s\n",
            "[CV 4/5] END clf__max_depth=None, clf__min_samples_split=10, clf__n_estimators=100;, score=1.000 total time=  11.9s\n",
            "[CV 1/5] END clf__max_depth=None, clf__min_samples_split=5, clf__n_estimators=200;, score=1.000 total time=  24.6s\n",
            "[CV 2/5] END clf__max_depth=None, clf__min_samples_split=5, clf__n_estimators=200;, score=1.000 total time=  25.2s\n",
            "[CV 3/5] END clf__max_depth=None, clf__min_samples_split=5, clf__n_estimators=200;, score=1.000 total time=  25.0s\n",
            "[CV 4/5] END clf__max_depth=None, clf__min_samples_split=5, clf__n_estimators=200;, score=1.000 total time=  23.5s\n",
            "[CV 5/5] END clf__max_depth=None, clf__min_samples_split=5, clf__n_estimators=200;, score=1.000 total time=  20.2s\n",
            "[CV 1/5] END clf__max_depth=None, clf__min_samples_split=10, clf__n_estimators=200;, score=1.000 total time=  17.5s\n",
            "[CV 3/5] END clf__max_depth=None, clf__min_samples_split=10, clf__n_estimators=200;, score=1.000 total time=  17.1s\n",
            "[CV 4/5] END clf__max_depth=None, clf__min_samples_split=10, clf__n_estimators=200;, score=1.000 total time=  16.2s\n",
            "[CV 2/5] END clf__max_depth=None, clf__min_samples_split=10, clf__n_estimators=200;, score=1.000 total time=  17.6s\n",
            "[CV 5/5] END clf__max_depth=None, clf__min_samples_split=10, clf__n_estimators=200;, score=1.000 total time=  10.6s\n",
            "Best Parameters: {'clf__max_depth': 10, 'clf__min_samples_split': 2, 'clf__n_estimators': 100}\n"
          ]
        }
      ],
      "source": [
        "# Pipeline with RandomForestClassifier\n",
        "pipeline = Pipeline([\n",
        "    ('clf', RandomForestClassifier())\n",
        "])\n",
        "\n",
        "# Hyperparameter tuning using GridSearchCV\n",
        "param_grid = {\n",
        "    'clf__n_estimators': [100, 200],\n",
        "    'clf__max_depth': [10, 20, None],\n",
        "    'clf__min_samples_split': [2, 5, 10]\n",
        "}\n",
        "# param_grid = {\n",
        "#     'clf__n_estimators': [5, 10],\n",
        "#     'clf__max_depth': [5, 10, None],\n",
        "#     'clf__min_samples_split': [2, 5, 10]\n",
        "# }\n",
        "# param_grid = {\n",
        "#     'clf__n_estimators': [3],\n",
        "#     'clf__max_depth': [3],\n",
        "#     'clf__min_samples_split': [5]\n",
        "# }\n",
        "# param_grid = {\n",
        "#     'clf__n_estimators': [2],\n",
        "#     'clf__max_depth': [2],\n",
        "#     'clf__min_samples_split': [3]\n",
        "# }\n",
        "\n",
        "\n",
        "grid_search = GridSearchCV(pipeline, param_grid, cv=5, n_jobs=-1, verbose=4)\n",
        "grid_search.fit(X_train, y_train)\n",
        "\n",
        "# Best parameters and model\n",
        "print(f\"Best Parameters: {grid_search.best_params_}\")\n",
        "best_model = grid_search.best_estimator_"
      ]
    },
    {
      "cell_type": "markdown",
      "metadata": {
        "id": "rQh18hmACVnz"
      },
      "source": [
        "# Sample Decision Tree Visualization"
      ]
    },
    {
      "cell_type": "code",
      "execution_count": 35,
      "metadata": {
        "colab": {
          "base_uri": "https://localhost:8080/",
          "height": 478
        },
        "id": "wg4o2JGtCRO9",
        "outputId": "c6da90e7-76a7-41a7-d4c4-1dc209c0da44"
      },
      "outputs": [
        {
          "name": "stdout",
          "output_type": "stream",
          "text": [
            "Total estimators: [100]\n",
            "Display tree for estimator: [10]\n"
          ]
        }
      ],
      "source": [
        "from sklearn.tree import export_graphviz\n",
        "import pydotplus\n",
        "from io import StringIO\n",
        "# from IPython.display import Image\n",
        "from PIL import Image\n",
        "\n",
        "# fn = p_df[p_col_content]\n",
        "fn = tfidf.get_feature_names_out()\n",
        "# fn = pipeline.get_feature_names_out()\n",
        "cn = p_df[p_col_label]\n",
        "\n",
        "# Create a StringIO object to hold the DOT data\n",
        "dot_data = StringIO()\n",
        "\n",
        "# check total count of estimators\n",
        "print(f\"Total estimators: [{len(best_model.named_steps['clf'].estimators_)}]\")\n",
        "# arbitary selection\n",
        "est_num = 10\n",
        "print(f\"Display tree for estimator: [{est_num}]\")\n",
        "\n",
        "# Export as dot file\n",
        "export_graphviz(best_model.named_steps['clf'].estimators_[est_num],\n",
        "                out_file=dot_data,\n",
        "                feature_names = fn,\n",
        "                class_names = cn,\n",
        "                rounded = True,\n",
        "                proportion = False,\n",
        "                precision = 2,\n",
        "                filled = True)\n",
        "\n",
        "# Generate a graph from the DOT data\n",
        "graph = pydotplus.graph_from_dot_data(dot_data.getvalue())\n",
        "# Save the tree as a PNG file\n",
        "graph.write_png('decision_tree.png')\n",
        "# Display the tree using PIL\n",
        "# Image(graph.create_png())\n",
        "img = Image.open('decision_tree.png')\n",
        "\n",
        "def is_jupyter_env():\n",
        "    try:\n",
        "        import sys\n",
        "        import ipykernel\n",
        "        return True\n",
        "    except ModuleNotFoundError or ImportError as e:\n",
        "        print(e)\n",
        "        return False\n",
        "    \n",
        "if is_jupyter_env():\n",
        "    display(img)\n",
        "else:\n",
        "    img.show()\n"
      ]
    },
    {
      "cell_type": "code",
      "execution_count": 45,
      "metadata": {},
      "outputs": [
        {
          "data": {
            "image/png": "[encoded data removed]",
            "text/plain": [
              "<PIL.PngImagePlugin.PngImageFile image mode=RGBA size=1099x895>"
            ]
          },
          "metadata": {},
          "output_type": "display_data"
        }
      ],
      "source": [
        "\n"
      ]
    },
    {
      "cell_type": "markdown",
      "metadata": {
        "id": "oGXvaVaKEsjW"
      },
      "source": [
        "# Save Model"
      ]
    },
    {
      "cell_type": "code",
      "execution_count": 36,
      "metadata": {
        "execution": {
          "iopub.execute_input": "2024-09-07T14:42:01.908014Z",
          "iopub.status.busy": "2024-09-07T14:42:01.907427Z",
          "iopub.status.idle": "2024-09-07T14:42:01.923366Z",
          "shell.execute_reply": "2024-09-07T14:42:01.921942Z",
          "shell.execute_reply.started": "2024-09-07T14:42:01.907957Z"
        },
        "id": "JLcDqSc4zdzf",
        "trusted": true
      },
      "outputs": [],
      "source": [
        "save_obj(p_obj=best_model, p_filename=MODEL_FILE)"
      ]
    },
    {
      "cell_type": "markdown",
      "metadata": {
        "id": "DkEH4IPPxnCm"
      },
      "source": [
        "# Load & Evaluate Model"
      ]
    },
    {
      "cell_type": "code",
      "execution_count": 37,
      "metadata": {
        "colab": {
          "base_uri": "https://localhost:8080/",
          "height": 671
        },
        "execution": {
          "iopub.execute_input": "2024-09-07T14:42:01.925709Z",
          "iopub.status.busy": "2024-09-07T14:42:01.925202Z",
          "iopub.status.idle": "2024-09-07T14:42:02.635287Z",
          "shell.execute_reply": "2024-09-07T14:42:02.633499Z",
          "shell.execute_reply.started": "2024-09-07T14:42:01.925653Z"
        },
        "id": "Qr5SRhj-EPkA",
        "outputId": "0f337ab9-d433-4f2f-b2d2-35f0f9f95657",
        "trusted": true
      },
      "outputs": [
        {
          "name": "stderr",
          "output_type": "stream",
          "text": [
            "/snap/core20/current/lib/x86_64-linux-gnu/libstdc++.so.6: version `GLIBCXX_3.4.29' not found (required by /lib/x86_64-linux-gnu/libproxy.so.1)\n",
            "Failed to load module: /home/franklin/snap/code/common/.cache/gio-modules/libgiolibproxy.so\n",
            "/snap/core20/current/lib/x86_64-linux-gnu/libstdc++.so.6: version `GLIBCXX_3.4.29' not found (required by /lib/x86_64-linux-gnu/libproxy.so.1)\n",
            "Failed to load module: /home/franklin/snap/code/common/.cache/gio-modules/libgiolibproxy.so\n",
            "Gtk-Message: 21:34:13.608: Failed to load module \"xapp-gtk3-module\"\n"
          ]
        },
        {
          "name": "stdout",
          "output_type": "stream",
          "text": [
            "Accuracy: 1.0\n",
            "Classification Report:\n",
            "               precision    recall  f1-score   support\n",
            "\n",
            "           0       1.00      1.00      1.00      7242\n",
            "           1       1.00      1.00      1.00      5130\n",
            "\n",
            "    accuracy                           1.00     12372\n",
            "   macro avg       1.00      1.00      1.00     12372\n",
            "weighted avg       1.00      1.00      1.00     12372\n",
            "\n"
          ]
        },
        {
          "data": {
            "image/png": "[encoded data removed]",
            "text/plain": [
              "<Figure size 640x480 with 2 Axes>"
            ]
          },
          "metadata": {},
          "output_type": "display_data"
        }
      ],
      "source": [
        "# Predicting on test set\n",
        "tgt_model = best_model\n",
        "y_pred = tgt_model.predict(X_test)\n",
        "\n",
        "# Evaluation metrics\n",
        "print(\"Accuracy:\", accuracy_score(y_test, y_pred))\n",
        "print(\"Classification Report:\\n\", classification_report(y_test, y_pred))\n",
        "\n",
        "# Confusion matrix\n",
        "conf_matrix = confusion_matrix(y_test, y_pred)\n",
        "sns.heatmap(conf_matrix, annot=True, fmt='d', cmap='Blues')\n",
        "plt.title('Confusion Matrix')\n",
        "plt.xlabel('Predicted')\n",
        "plt.ylabel('Actual')\n",
        "plt.show()"
      ]
    },
    {
      "cell_type": "markdown",
      "metadata": {
        "id": "aSNrqjRTVp6w"
      },
      "source": [
        "\n",
        "# Deploy Model for Inference"
      ]
    },
    {
      "cell_type": "code",
      "execution_count": 38,
      "metadata": {
        "execution": {
          "iopub.execute_input": "2024-09-07T14:42:02.637462Z",
          "iopub.status.busy": "2024-09-07T14:42:02.636982Z",
          "iopub.status.idle": "2024-09-07T14:42:02.643331Z",
          "shell.execute_reply": "2024-09-07T14:42:02.641556Z",
          "shell.execute_reply.started": "2024-09-07T14:42:02.637412Z"
        },
        "id": "9vovrvnqEDIq",
        "trusted": true
      },
      "outputs": [],
      "source": [
        "# tgt_tfidf = load_obj(p_filename=TFIDF_FILE)\n",
        "# tgt_model = load_obj(p_filename=MODEL_FILE)"
      ]
    },
    {
      "cell_type": "code",
      "execution_count": 39,
      "metadata": {
        "colab": {
          "base_uri": "https://localhost:8080/"
        },
        "execution": {
          "iopub.execute_input": "2024-09-07T14:42:02.645765Z",
          "iopub.status.busy": "2024-09-07T14:42:02.645275Z",
          "iopub.status.idle": "2024-09-07T14:42:02.673293Z",
          "shell.execute_reply": "2024-09-07T14:42:02.671916Z",
          "shell.execute_reply.started": "2024-09-07T14:42:02.645709Z"
        },
        "id": "S1wDAtxfshl6",
        "outputId": "3847b438-fcc3-4efd-c180-6865c17f9bd7",
        "trusted": true
      },
      "outputs": [
        {
          "name": "stdout",
          "output_type": "stream",
          "text": [
            "TfidfVectorizer(max_features=159)\n",
            "Pipeline(steps=[('clf', RandomForestClassifier(max_depth=10))])\n"
          ]
        }
      ],
      "source": [
        "# tgt_model = load_obj(p_filename='/content/drive/MyDrive/sctp-capstone-ml-log-data/model/'+'log_classifier_model.sav')\n",
        "# save_obj(p_obj=tfidf, p_filename='/content/drive/MyDrive/sctp-capstone-ml-log-data/model/'+'tfidf_vectorizer.sav')\n",
        "\n",
        "model = None\n",
        "tfidf_vectorizer = None\n",
        "\n",
        "# Load the trained model from the pickle file\n",
        "# filename='/content/drive/MyDrive/sctp-capstone-ml-log-data/model/'+'log_classifier_model.sav'\n",
        "filename = MODEL_FILE\n",
        "with open(filename, 'rb') as model_file:\n",
        "    model = pickle.load(model_file)\n",
        "\n",
        "# Load the TF-IDF vectorizer\n",
        "# filename='/content/drive/MyDrive/sctp-capstone-ml-log-data/model/'+'tfidf_vectorizer.sav'\n",
        "filename = TFIDF_FILE\n",
        "with open(filename, 'rb') as vectorizer_file:\n",
        "    tfidf_vectorizer = pickle.load(vectorizer_file)\n",
        "\n",
        "print(tfidf_vectorizer)\n",
        "print(model)"
      ]
    },
    {
      "cell_type": "code",
      "execution_count": 40,
      "metadata": {
        "execution": {
          "iopub.execute_input": "2024-09-07T15:05:18.135689Z",
          "iopub.status.busy": "2024-09-07T15:05:18.135251Z",
          "iopub.status.idle": "2024-09-07T15:05:18.484853Z",
          "shell.execute_reply": "2024-09-07T15:05:18.483724Z",
          "shell.execute_reply.started": "2024-09-07T15:05:18.135650Z"
        },
        "id": "MyJivhQGVuGn",
        "trusted": true
      },
      "outputs": [],
      "source": [
        "\n",
        "def classify_log(input_text: list = None):\n",
        "    tmp = input_text.split('\\n')\n",
        "\n",
        "    line_cnt = len(input_text.split('\\n'))-2\n",
        "    print(f\"Total lines received: [{line_cnt}]\")\n",
        "#     print(f\"{type(input_text)}\\n{tmp}\")\n",
        "\n",
        "    # Preprocess and vectorize the input text\n",
        "    # input_text_cleaned = clean_str(input_text)\n",
        "    input_text_cleaned = [ clean_str(i) for i in input_text.split('\\n') if len(i)>0 ]\n",
        "#     print(input_text_cleaned)\n",
        "\n",
        "    # input_vector = tfidf_vectorizer.transform([input_text_cleaned]).toarray()\n",
        "    input_vector = tfidf_vectorizer.transform(input_text_cleaned).toarray()\n",
        "\n",
        "    # Predict the log type\n",
        "    prediction = model.predict(input_vector)\n",
        "\n",
        "    # Return the prediction as a readable label\n",
        "#     print(prediction)\n",
        "#     return f\"Predicted Log Type: {LOG_TYPES[prediction[0]]}\"\n",
        "    result = [ LOG_TYPES[i] for i in prediction ]\n",
        "    return result\n",
        "\n",
        "# def classify_log_file(log_file):\n",
        "#     # Read the text file and concatenate the lines into a single string\n",
        "#     log_text = log_file.read().decode('utf-8')\n",
        "#     return classify_log(log_text)\n",
        "\n",
        "# Define the Gradio interface\n",
        "iface = gr.Interface(\n",
        "    fn=classify_log,  # Function to classify text input\n",
        "    # inputs = gr.interface .inputs.Textbox(lines=10, placeholder=\"Enter log text here...\"),  # Text input\n",
        "    inputs = gr.Textbox(lines=3, placeholder=\"Enter log text (line by line) here...\"),  # Text input\n",
        "    outputs=\"text\",  # Text output\n",
        "    title=\"Log File Classifier\",\n",
        "    description=\"Submit 1 log entry per line to classify the type of log.\"\n",
        ")\n",
        "\n",
        "# iface_file_upload = gr.Interface(\n",
        "#     fn=classify_log_file,  # Function to classify uploaded text file\n",
        "#     # inputs=gr.inputs.File(type=\"file\"),  # File input\n",
        "#     inputs = gr.File(type=\"filepath\"),  # File input\n",
        "#     outputs=\"text\",  # Text output\n",
        "#     title=\"Log File Classifier (File Upload)\",\n",
        "#     description=\"Upload a log file to classify the type of log.\"\n",
        "# )\n",
        "\n",
        "# Combine both interfaces\n",
        "# iface = gr.TabbedInterface([iface, iface_file_upload], [\"Text Input\", \"File Upload\"])\n",
        "iface = gr.TabbedInterface([iface], [\"Text Input\"])\n",
        "\n"
      ]
    },
    {
      "cell_type": "markdown",
      "metadata": {
        "id": "cmiZCpN06GkD"
      },
      "source": [
        "# Online Inference Testing"
      ]
    },
    {
      "cell_type": "code",
      "execution_count": 41,
      "metadata": {
        "execution": {
          "iopub.execute_input": "2024-09-07T14:42:03.088630Z",
          "iopub.status.busy": "2024-09-07T14:42:03.088214Z",
          "iopub.status.idle": "2024-09-07T14:42:03.095571Z",
          "shell.execute_reply": "2024-09-07T14:42:03.093920Z",
          "shell.execute_reply.started": "2024-09-07T14:42:03.088586Z"
        },
        "id": "gc7JHYvPoAar",
        "trusted": true
      },
      "outputs": [],
      "source": [
        "# toggle to deploy\n",
        "# do not deploy if running to collect artifacts\n",
        "\n",
        "GR_DEPLOY = False\n",
        "\n",
        "if GR_DEPLOY:\n",
        "    # Launch the interface\n",
        "    iface.launch(debug=True,share=True)\n"
      ]
    },
    {
      "cell_type": "markdown",
      "metadata": {
        "id": "bnYb0Vuy6KXM"
      },
      "source": [
        "# Offline Inference Testing"
      ]
    },
    {
      "cell_type": "code",
      "execution_count": 42,
      "metadata": {
        "colab": {
          "base_uri": "https://localhost:8080/"
        },
        "execution": {
          "iopub.execute_input": "2024-09-07T15:05:25.637566Z",
          "iopub.status.busy": "2024-09-07T15:05:25.637089Z",
          "iopub.status.idle": "2024-09-07T15:05:25.703353Z",
          "shell.execute_reply": "2024-09-07T15:05:25.702188Z",
          "shell.execute_reply.started": "2024-09-07T15:05:25.637520Z"
        },
        "id": "mWYOBr_K1y2H",
        "outputId": "2471f65d-dc31-41c9-d60b-3c70fd1449be",
        "trusted": true
      },
      "outputs": [
        {
          "name": "stdout",
          "output_type": "stream",
          "text": [
            "Total lines received: [13]\n",
            "['system_messages', 'system_messages', 'system_messages', 'system_messages', 'system_messages', 'system_messages', 'system_messages', 'system_messages', 'system_messages', 'system_messages', 'system_messages', 'system_messages', 'system_messages']\n",
            "Total lines received: [13]\n",
            "['httpd_access_log', 'httpd_access_log', 'httpd_access_log', 'httpd_access_log', 'httpd_access_log', 'httpd_access_log', 'httpd_access_log', 'httpd_access_log', 'httpd_access_log', 'httpd_access_log', 'httpd_access_log', 'httpd_access_log', 'httpd_access_log']\n",
            "Total lines received: [9]\n",
            "['system_messages', 'system_messages', 'system_messages', 'system_messages', 'system_messages', 'system_messages', 'system_messages', 'system_messages', 'system_messages']\n",
            "Total lines received: [14]\n",
            "['system_messages', 'system_messages', 'system_messages', 'system_messages', 'system_messages', 'system_messages', 'httpd_access_log', 'httpd_access_log', 'httpd_access_log', 'system_messages', 'system_messages', 'system_messages', 'system_messages', 'system_messages']\n"
          ]
        }
      ],
      "source": [
        "s1=\"\"\"\n",
        "Jan 25 01:48:27 combo ftpd[929]: connection from 216.19.205.44 (216-19-205-44.getnet.net) at Wed Jan 25 01:48:27 2006\n",
        "Jan 25 01:48:27 combo ftpd[925]: connection from 216.19.205.44 (216-19-205-44.getnet.net) at Wed Jan 25 01:48:27 2006\n",
        "Jan 25 01:48:27 combo ftpd[937]: connection from 216.19.205.44 (216-19-205-44.getnet.net) at Wed Jan 25 01:48:27 2006\n",
        "Jan 25 01:48:27 combo ftpd[933]: connection from 216.19.205.44 (216-19-205-44.getnet.net) at Wed Jan 25 01:48:27 2006\n",
        "Jan 25 01:48:31 combo ftpd[946]: connection from 216.19.205.44 (216-19-205-44.getnet.net) at Wed Jan 25 01:48:31 2006\n",
        "Jan 25 01:48:31 combo ftpd[947]: connection from 216.19.205.44 (216-19-205-44.getnet.net) at Wed Jan 25 01:48:31 2006\n",
        "Jan 25 04:11:13 combo su(pam_unix)[1489]: session opened for user cyrus by (uid=0)\n",
        "Jan 25 04:11:14 combo su(pam_unix)[1489]: session closed for user cyrus\n",
        "Jan 25 04:11:15 combo logrotate: ALERT exited abnormally with [1]\n",
        "Jan 25 04:17:22 combo su(pam_unix)[2749]: session opened for user news by (uid=0)\n",
        "Jan 25 04:17:23 combo su(pam_unix)[2749]: session closed for user news\n",
        "Jan 26 04:04:29 combo su(pam_unix)[5074]: session opened for user cyrus by (uid=0)\n",
        "Jan 26 04:04:29 combo su(pam_unix)[5074]: session closed for user cyrus\n",
        "\"\"\"\n",
        "\n",
        "s2 = \"\"\"\n",
        "[Wed Aug 10 21:17:24 2005] [error] [client 200.67.20.29] Directory index forbidden by rule: /var/www/html/\n",
        "[Wed Aug 10 22:19:49 2005] [error] [client 12.28.155.101] Directory index forbidden by rule: /var/www/html/\n",
        "[Wed Aug 10 22:58:16 2005] [error] [client 24.175.102.60] Directory index forbidden by rule: /var/www/html/\n",
        "[Wed Aug 10 23:10:08 2005] [error] [client 218.84.105.208] Directory index forbidden by rule: /var/www/html/\n",
        "[Thu Aug 11 02:18:29 2005] [error] [client 59.36.212.216] Directory index forbidden by rule: /var/www/html/\n",
        "[Thu Aug 11 02:43:09 2005] [error] [client 62.0.47.69] Directory index forbidden by rule: /var/www/html/\n",
        "[Thu Aug 11 03:40:34 2005] [error] [client 221.8.19.11] Directory index forbidden by rule: /var/www/html/\n",
        "[Thu Aug 11 04:18:35 2005] [error] [client 222.208.123.40] Directory index forbidden by rule: /var/www/html/\n",
        "[Thu Aug 11 05:15:52 2005] [error] [client 68.147.27.208] Directory index forbidden by rule: /var/www/html/\n",
        "[Thu Aug 11 09:29:04 2005] [error] [client 66.21.127.198] Directory index forbidden by rule: /var/www/html/\n",
        "[Thu Aug 11 10:23:05 2005] [error] [client 202.224.193.213] File does not exist: /var/www/html/phpmyadmin\n",
        "[Thu Aug 11 10:23:07 2005] [error] [client 202.224.193.213] File does not exist: /var/www/html/phpmyadmin\n",
        "[Thu Aug 11 10:23:07 2005] [error] [client 202.224.193.213] File does not exist: /var/www/html/phpmyadmin\n",
        "\"\"\"\n",
        "\n",
        "s3 = \"\"\"\n",
        "Sep  1 00:12:20 sekiei gnome-shell[5016]: Window manager warning: Overwriting existing binding of keysym 37 with keysym 37 (keycode 10).\n",
        "Sep  1 00:12:20 sekiei gnome-shell[5016]: Window manager warning: Overwriting existing binding of keysym 38 with keysym 38 (keycode 11).\n",
        "Sep  1 00:17:01 sekiei CRON[202112]: (root) CMD (   cd / && run-parts --report /etc/cron.hourly)\n",
        "Sep  1 00:21:22 sekiei rtkit-daemon[2869]: Supervising 12 threads of 4 processes of 1 users.\n",
        "Sep  1 00:21:22 sekiei rtkit-daemon[2869]: Supervising 12 threads of 4 processes of 1 users.\n",
        "Sep  1 00:30:08 sekiei gnome-shell[32933]: [32973:32973:0901/003008.801203:ERROR:shared_image_manager.cc(224)] SharedImageManager::ProduceSkia: Trying to Produce a Skia representation from a non-existent mailbox.\n",
        "Sep  1 00:30:08 sekiei gnome-shell[32933]: [32973:32973:0901/003008.801982:ERROR:shared_image_manager.cc(224)] SharedImageManager::ProduceSkia: Trying to Produce a Skia representation from a non-existent mailbox.\n",
        "Sep  1 00:31:44 sekiei rtkit-daemon[2869]: Supervising 12 threads of 4 processes of 1 users.\n",
        "Sep  1 00:39:39 sekiei rtkit-daemon[2869]: message repeated 3 times: [ Supervising 12 threads of 4 processes of 1 users.]\n",
        "\"\"\"\n",
        "\n",
        "s4 = \"\"\"\n",
        "Sep  1 00:49:08 sekiei gnome-shell[5016]: Can't update stage views actor <unnamed>[<MetaWindowActorX11>:0x5ff5d9806f10] is on because it needs an allocation.\n",
        "Sep  1 00:49:08 sekiei gnome-shell[5016]: Can't update stage views actor <unnamed>[<MetaSurfaceActorX11>:0x5ff5d97ee320] is on because it needs an allocation.\n",
        "Sep  1 00:49:10 sekiei rtkit-daemon[2869]: Supervising 12 threads of 4 processes of 1 users.\n",
        "Sep  1 00:49:10 sekiei rtkit-daemon[2869]: Supervising 12 threads of 4 processes of 1 users.\n",
        "Sep  1 00:49:11 sekiei gnome-shell[5016]: Can't update stage views actor <unnamed>[<MetaWindowGroup>:0x5ff5d5fa8650] is on because it needs an allocation.\n",
        "Sep  1 00:49:11 sekiei gnome-shell[5016]: Can't update stage views actor <unnamed>[<MetaWindowActorX11>:0x5ff5d9806b20] is on because it needs an allocation.\n",
        "127.0.0.1 - - [13/Mar/2022:20:52:43 +0800] \"GET / HTTP/1.1\" 200 3477 \"-\" \"Mozilla/5.0 (X11; Linux x86_64) AppleWebKit/537.36 (KHTML, like Gecko) Chrome/99.0.4844.51 Safari/537.36\"\n",
        "127.0.0.1 - - [13/Mar/2022:20:52:43 +0800] \"GET /icons/ubuntu-logo.png HTTP/1.1\" 200 3623 \"http://127.0.0.1/\" \"Mozilla/5.0 (X11; Linux x86_64) AppleWebKit/537.36 (KHTML, like Gecko) Chrome/99.0.4844.51 Safari/537.36\"\n",
        "127.0.0.1 - - [13/Mar/2022:20:52:43 +0800] \"GET /favicon.ico HTTP/1.1\" 404 487 \"http://127.0.0.1/\" \"Mozilla/5.0 (X11; Linux x86_64) AppleWebKit/537.36 (KHTML, like Gecko) Chrome/99.0.4844.51 Safari/537.36\"\n",
        "127.0.0.1 - - [13/Mar/2022:20:53:35 +0800] \"-\" 408 0 \"-\" \"-\"\n",
        "Sep  1 00:17:01 sekiei CRON[202112]: (root) CMD (   cd / && run-parts --report /etc/cron.hourly)\n",
        "Sep  1 00:47:45 sekiei cups.cups-browsed[3520]: + true\n",
        "Sep  1 11:50:16 sekiei sbkeysync[2146]:     3608edbaf5ad0f41a414a1777abf2faf5e670334675ec3995e6935829e0caad2\n",
        "Sep  1 11:50:16 sekiei sbkeysync[2146]:      from /usr/share/secureboot/updates/dbx/dbxupdate_x64.bin\n",
        "\"\"\"\n",
        "\n",
        "s = [s1, s2, s3, s4]\n",
        "_ = [ print(classify_log(i)) for i in s ]\n",
        "\n"
      ]
    },
    {
      "cell_type": "code",
      "execution_count": 40,
      "metadata": {
        "id": "VNJrCBUW2l6Y"
      },
      "outputs": [],
      "source": []
    }
  ],
  "metadata": {
    "colab": {
      "provenance": []
    },
    "kaggle": {
      "accelerator": "none",
      "dataSources": [
        {
          "databundleVersionId": 9530230,
          "datasetId": 5655731,
          "sourceId": 9333743,
          "sourceType": "datasetVersion"
        },
        {
          "databundleVersionId": 9492243,
          "datasetId": 5630148,
          "sourceId": 9298943,
          "sourceType": "datasetVersion"
        },
        {
          "databundleVersionId": 9534764,
          "datasetId": 5630293,
          "sourceId": 9337846,
          "sourceType": "datasetVersion"
        }
      ],
      "dockerImageVersionId": 30761,
      "isGpuEnabled": false,
      "isInternetEnabled": true,
      "language": "python",
      "sourceType": "notebook"
    },
    "kernelspec": {
      "display_name": "Python 3",
      "language": "python",
      "name": "python3"
    },
    "language_info": {
      "codemirror_mode": {
        "name": "ipython",
        "version": 3
      },
      "file_extension": ".py",
      "mimetype": "text/x-python",
      "name": "python",
      "nbconvert_exporter": "python",
      "pygments_lexer": "ipython3",
      "version": "3.10.12"
    }
  },
  "nbformat": 4,
  "nbformat_minor": 0
}
